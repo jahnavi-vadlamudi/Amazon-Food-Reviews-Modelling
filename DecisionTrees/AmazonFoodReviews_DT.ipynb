{
 "cells": [
  {
   "cell_type": "markdown",
   "metadata": {},
   "source": [
    "## Decision tree model on Amazon Fine Food Reviews"
   ]
  },
  {
   "cell_type": "markdown",
   "metadata": {},
   "source": [
    "### Importing all Libraries"
   ]
  },
  {
   "cell_type": "code",
   "execution_count": 66,
   "metadata": {},
   "outputs": [],
   "source": [
    "import pandas as pd\n",
    "import numpy as np\n",
    "import matplotlib.pyplot as plt\n",
    "import sqlite3 \n",
    "import nltk\n",
    "import string\n",
    "import seaborn as sns\n",
    "from sklearn.feature_extraction.text import TfidfTransformer\n",
    "from sklearn import tree\n",
    "from sklearn.feature_extraction.text import TfidfTransformer\n",
    "from sklearn.feature_extraction.text import TfidfVectorizer\n",
    "import graphviz \n",
    "from sklearn.feature_extraction.text import CountVectorizer\n",
    "from sklearn.tree import DecisionTreeClassifier\n",
    "from sklearn.feature_extraction.text import TfidfVectorizer\n",
    "from sklearn.model_selection import GridSearchCV,RandomizedSearchCV\n",
    "from sklearn.linear_model import LogisticRegression\n",
    "from sklearn import metrics\n",
    "from gensim.models import Word2Vec\n",
    "from sklearn import preprocessing\n",
    "import warnings\n",
    "from sklearn.cross_validation import train_test_split\n",
    "from sklearn.model_selection import TimeSeriesSplit\n",
    "from sklearn.metrics import accuracy_score\n",
    "from sklearn.metrics import classification_report\n",
    "from sklearn.metrics import confusion_matrix\n",
    "import pickle\n",
    "from prettytable import PrettyTable\n",
    "warnings.filterwarnings(\"ignore\")\n"
   ]
  },
  {
   "cell_type": "markdown",
   "metadata": {},
   "source": [
    "### Loading the data"
   ]
  },
  {
   "cell_type": "code",
   "execution_count": 2,
   "metadata": {},
   "outputs": [
    {
     "data": {
      "text/plain": [
       "(364171, 12)"
      ]
     },
     "execution_count": 2,
     "metadata": {},
     "output_type": "execute_result"
    }
   ],
   "source": [
    "# Loading the cleaned data directly which is preprocessed and stored in final.sqlite\n",
    "import sqlite3\n",
    "con = sqlite3.connect(\"final.sqlite\")\n",
    "cleaned_data = pd.read_sql_query(\"select * from Reviews\", con)\n",
    "cleaned_data.shape"
   ]
  },
  {
   "cell_type": "code",
   "execution_count": 3,
   "metadata": {},
   "outputs": [],
   "source": [
    "#Sorting based on time\n",
    "cleaned_data['Time'] = pd.to_datetime(cleaned_data['Time']).sort_values()"
   ]
  },
  {
   "cell_type": "code",
   "execution_count": 4,
   "metadata": {},
   "outputs": [
    {
     "name": "stdout",
     "output_type": "stream",
     "text": [
      "(254919,) (109252,)\n"
     ]
    }
   ],
   "source": [
    "# Splitting the data\n",
    "\n",
    "X = cleaned_data['CleanedText']\n",
    "Y = cleaned_data['Score']\n",
    "\n",
    "X_train, X_test, Y_train, Y_test = train_test_split(X, Y, test_size = 0.3, random_state = 0)\n",
    "print(X_train.shape,X_test.shape)\n",
    "#print(X_train)"
   ]
  },
  {
   "cell_type": "markdown",
   "metadata": {},
   "source": [
    "### Word2Vec"
   ]
  },
  {
   "cell_type": "code",
   "execution_count": null,
   "metadata": {},
   "outputs": [],
   "source": [
    "list_of_sent=[]\n",
    "for sent in X_train:\n",
    "    list_of_sent.append(sent.split())\n",
    "    \n",
    "w2v_model=Word2Vec(list_of_sent,min_count=5,size=50, workers=4)\n",
    "w2v_words = list(w2v_model.wv.vocab)\n",
    "w2v_words = np.array(w2v_words)\n",
    "pickle.dump(w2v_words, open( \"w2v_train_DT.p\", \"wb\" ))"
   ]
  },
  {
   "cell_type": "code",
   "execution_count": 6,
   "metadata": {},
   "outputs": [
    {
     "data": {
      "text/plain": [
       "(18848,)"
      ]
     },
     "execution_count": 6,
     "metadata": {},
     "output_type": "execute_result"
    }
   ],
   "source": [
    "w2v_words = pickle.load( open( \"w2v_train_DT.p\", \"rb\" ))\n",
    "w2v_words.shape"
   ]
  },
  {
   "cell_type": "code",
   "execution_count": 14,
   "metadata": {},
   "outputs": [],
   "source": [
    "list_of_sent_test=[]\n",
    "for sent in X_test:\n",
    "    list_of_sent_test.append(sent.split())\n",
    "w2v_model=Word2Vec(list_of_sent_test,min_count=5,size=50, workers=4)\n",
    "w2v_model.wv.most_similar('tast')\n",
    "w2v_words = list(w2v_model.wv.vocab)\n",
    "w2v_words = np.array(w2v_words)\n",
    "pickle.dump(w2v_words, open( \"w2v_test_DT.p\", \"wb\" ))"
   ]
  },
  {
   "cell_type": "code",
   "execution_count": 7,
   "metadata": {},
   "outputs": [
    {
     "data": {
      "text/plain": [
       "(13054,)"
      ]
     },
     "execution_count": 7,
     "metadata": {},
     "output_type": "execute_result"
    }
   ],
   "source": [
    "w2v_words = pickle.load( open( \"w2v_test_DT.p\", \"rb\" ))\n",
    "w2v_words.shape"
   ]
  },
  {
   "cell_type": "markdown",
   "metadata": {},
   "source": [
    "### Average Word2Vec"
   ]
  },
  {
   "cell_type": "code",
   "execution_count": null,
   "metadata": {},
   "outputs": [],
   "source": [
    "sent_vectors = []; # the avg-w2v for each sentence/review is stored in this list\n",
    "for sent in list_of_sent: # for each review/sentence\n",
    "    sent_vec = np.zeros(50) # as word vectors are of zero length\n",
    "    cnt_words =0; # num of words with a valid vector in the sentence/review\n",
    "    for word in sent: # for each word in a review/sentence\n",
    "        if word in w2v_words:\n",
    "            vec = w2v_model.wv[word]\n",
    "            sent_vec += vec\n",
    "            cnt_words += 1\n",
    "    if cnt_words != 0:\n",
    "        sent_vec /= cnt_words\n",
    "    sent_vectors.append(sent_vec)\n",
    "sent_vectors = np.array(sent_vectors)\n",
    "\n",
    "#saving sent_vectors as pickle file\n",
    "pickle.dump(sent_vectors, open( \"Avgw2v_train_DT.p\", \"wb\" ))\n"
   ]
  },
  {
   "cell_type": "code",
   "execution_count": 8,
   "metadata": {},
   "outputs": [
    {
     "data": {
      "text/plain": [
       "(254919, 50)"
      ]
     },
     "execution_count": 8,
     "metadata": {},
     "output_type": "execute_result"
    }
   ],
   "source": [
    "sent_vectors = pickle.load( open( \"Avgw2v_train_DT.p\", \"rb\" ))\n",
    "sent_vectors.shape"
   ]
  },
  {
   "cell_type": "code",
   "execution_count": null,
   "metadata": {},
   "outputs": [],
   "source": [
    "sent_vectors_test = []; # the avg-w2v for each sentence/review is stored in this list\n",
    "for sent in list_of_sent_test: # for each review/sentence\n",
    "    sent_vec = np.zeros(50) # as word vectors are of zero length\n",
    "    cnt_words =0; # num of words with a valid vector in the sentence/review\n",
    "    for word in sent: # for each word in a review/sentence\n",
    "        if word in w2v_words:\n",
    "            vec = w2v_model.wv[word]\n",
    "            sent_vec += vec\n",
    "            cnt_words += 1\n",
    "    if cnt_words != 0:\n",
    "        sent_vec /= cnt_words\n",
    "    sent_vectors_test.append(sent_vec)\n",
    "sent_vectors_test = np.array(sent_vectors_test)\n",
    "pickle.dump(sent_vectors_test, open( \"Avgw2v_test_DT.p\", \"wb\" ))"
   ]
  },
  {
   "cell_type": "code",
   "execution_count": 9,
   "metadata": {},
   "outputs": [
    {
     "data": {
      "text/plain": [
       "(109252, 50)"
      ]
     },
     "execution_count": 9,
     "metadata": {},
     "output_type": "execute_result"
    }
   ],
   "source": [
    "sent_vectors_test = pickle.load( open( \"Avgw2v_test_DT.p\", \"rb\" ))\n",
    "sent_vectors_test.shape"
   ]
  },
  {
   "cell_type": "code",
   "execution_count": 10,
   "metadata": {},
   "outputs": [],
   "source": [
    "X_train = sent_vectors\n",
    "X_test = sent_vectors_test"
   ]
  },
  {
   "cell_type": "markdown",
   "metadata": {},
   "source": [
    "#### GridSearch CV"
   ]
  },
  {
   "cell_type": "code",
   "execution_count": 11,
   "metadata": {},
   "outputs": [
    {
     "data": {
      "text/plain": [
       "GridSearchCV(cv=TimeSeriesSplit(max_train_size=None, n_splits=5),\n",
       "       error_score='raise',\n",
       "       estimator=DecisionTreeClassifier(class_weight='balanced', criterion='gini',\n",
       "            max_depth=None, max_features=None, max_leaf_nodes=None,\n",
       "            min_impurity_decrease=0.0, min_impurity_split=None,\n",
       "            min_samples_leaf=1, min_samples_split=2,\n",
       "            min_weight_fraction_leaf=0.0, presort=False, random_state=None,\n",
       "            splitter='best'),\n",
       "       fit_params=None, iid=True, n_jobs=1,\n",
       "       param_grid={'max_depth': [3, 5, 7, 9, 11, 13, 15, 17, 19]},\n",
       "       pre_dispatch='2*n_jobs', refit=True, return_train_score='warn',\n",
       "       scoring=None, verbose=0)"
      ]
     },
     "execution_count": 11,
     "metadata": {},
     "output_type": "execute_result"
    }
   ],
   "source": [
    "param_grid = {'max_depth': [3,5,7,9,11,13,15,17,19]}\n",
    "tscv = TimeSeriesSplit(n_splits=5)\n",
    "model = GridSearchCV(DecisionTreeClassifier(class_weight = 'balanced'), param_grid, cv=tscv)\n",
    "model.fit(X_train, Y_train)"
   ]
  },
  {
   "cell_type": "code",
   "execution_count": 12,
   "metadata": {},
   "outputs": [
    {
     "data": {
      "text/plain": [
       "DecisionTreeClassifier(class_weight='balanced', criterion='gini',\n",
       "            max_depth=19, max_features=None, max_leaf_nodes=None,\n",
       "            min_impurity_decrease=0.0, min_impurity_split=None,\n",
       "            min_samples_leaf=1, min_samples_split=2,\n",
       "            min_weight_fraction_leaf=0.0, presort=False, random_state=None,\n",
       "            splitter='best')"
      ]
     },
     "execution_count": 12,
     "metadata": {},
     "output_type": "execute_result"
    }
   ],
   "source": [
    "model.best_estimator_"
   ]
  },
  {
   "cell_type": "code",
   "execution_count": 13,
   "metadata": {},
   "outputs": [
    {
     "data": {
      "text/plain": [
       "Text(0.5,1,'CV Error Vs Max-depth')"
      ]
     },
     "execution_count": 13,
     "metadata": {},
     "output_type": "execute_result"
    },
    {
     "data": {
      "image/png": "[encoded data removed]",
      "text/plain": [
       "<Figure size 432x288 with 1 Axes>"
      ]
     },
     "metadata": {},
     "output_type": "display_data"
    }
   ],
   "source": [
    "model_mean_scores = [result.mean_validation_score for result in model.grid_scores_]\n",
    "MSE = [1 - x for x in model_mean_scores]\n",
    "\n",
    "plt.plot([3,5,7,9,11,13,15,17,19], MSE,marker = '*')\n",
    "plt.xlabel('Max-depth')\n",
    "plt.ylabel('CV Error')\n",
    "plt.title('CV Error Vs Max-depth')"
   ]
  },
  {
   "cell_type": "code",
   "execution_count": 14,
   "metadata": {},
   "outputs": [
    {
     "name": "stdout",
     "output_type": "stream",
     "text": [
      "The accuracy of the model with max_depth 19 is 82.03078661206045%\n"
     ]
    }
   ],
   "source": [
    "max_depth_avgw2v = model.best_estimator_.max_depth\n",
    "accuracy_avgw2v = model.best_score_*100\n",
    "print(\"The accuracy of the model with max_depth {0} is {1}%\".format(max_depth_avgw2v,accuracy_avgw2v))"
   ]
  },
  {
   "cell_type": "code",
   "execution_count": 21,
   "metadata": {},
   "outputs": [
    {
     "name": "stdout",
     "output_type": "stream",
     "text": [
      "             precision    recall  f1-score   support\n",
      "\n",
      "   negative       0.82      1.00      0.90     17265\n",
      "   positive       1.00      0.96      0.98     91987\n",
      "\n",
      "avg / total       0.97      0.96      0.97    109252\n",
      "\n"
     ]
    }
   ],
   "source": [
    "#clf = DecisionTreeClassifier(max_depth = max_depth_avgw2v)\n",
    "# fitting the model\n",
    "model_avgw2v = model.best_estimator_.fit(X_test,Y_test)\n",
    "\n",
    "#Predicting the output\n",
    "Y_pred = model.best_estimator_.predict(X_test)\n",
    "\n",
    "# classification report\n",
    "print(classification_report(Y_test, Y_pred))"
   ]
  },
  {
   "cell_type": "code",
   "execution_count": 22,
   "metadata": {},
   "outputs": [
    {
     "data": {
      "image/png": "[encoded data removed]",
      "text/plain": [
       "<Figure size 432x288 with 2 Axes>"
      ]
     },
     "metadata": {},
     "output_type": "display_data"
    }
   ],
   "source": [
    "#Confusion matrix\n",
    "\n",
    "class_label = [\"negative\", \"positive\"]\n",
    "cm = confusion_matrix(Y_test, Y_pred)\n",
    "cm_array = pd.DataFrame(cm, index = class_label, columns = class_label)\n",
    "sns.heatmap(cm_array, annot = True, fmt = \"d\")\n",
    "plt.title(\"Confusion Matrix\")\n",
    "plt.xlabel(\"Predicted Label\")\n",
    "plt.ylabel(\"True Label\")\n",
    "plt.show()"
   ]
  },
  {
   "cell_type": "code",
   "execution_count": 27,
   "metadata": {},
   "outputs": [
    {
     "data": {
      "text/plain": [
       "'Avgw2v_DT.png'"
      ]
     },
     "execution_count": 27,
     "metadata": {},
     "output_type": "execute_result"
    }
   ],
   "source": [
    "dot_data = tree.export_graphviz(model_avgw2v, out_file=None,\n",
    "                         filled=True, rounded=True,  \n",
    "                         special_characters=True)  \n",
    "graph = graphviz.Source(dot_data)  \n",
    "graph.format = 'png'\n",
    "graph.render('Avgw2v_DT',view=True)\n"
   ]
  },
  {
   "cell_type": "markdown",
   "metadata": {},
   "source": [
    "### TF-IDF Word2Vec"
   ]
  },
  {
   "cell_type": "code",
   "execution_count": 16,
   "metadata": {},
   "outputs": [],
   "source": [
    "model = TfidfVectorizer()\n",
    "tf_idf_matrix = model.fit_transform(X_train)\n",
    "# we are converting a dictionary with word as a key, and the idf as a value\n",
    "dictionary = dict(zip(model.get_feature_names(), list(model.idf_)))"
   ]
  },
  {
   "cell_type": "code",
   "execution_count": 22,
   "metadata": {},
   "outputs": [],
   "source": [
    "tfidf_sent_vectors = []; # the tfidf-w2v for each sentence/review is stored in this list\n",
    "row=0;\n",
    "for sent in list_of_sent: # for each review/sentence \n",
    "    sent_vec = np.zeros(50) # as word vectors are of zero length\n",
    "    weight_sum =0; # num of words with a valid vector in the sentence/review\n",
    "    for word in sent: # for each word in a review/sentence\n",
    "        if word in w2v_words:\n",
    "            vec = w2v_model.wv[word]\n",
    "            # obtain the tf_idfidf of a word in a sentence/review\n",
    "            tf_idf = dictionary[word]*(sent.count(word)/len(sent))\n",
    "            sent_vec += (vec * tf_idf)\n",
    "            weight_sum += tf_idf\n",
    "    if weight_sum != 0:\n",
    "        sent_vec /= weight_sum\n",
    "    tfidf_sent_vectors.append(sent_vec)\n",
    "    row += 1\n",
    "tfidf_sent_vectors = np.array(tfidf_sent_vectors)\n",
    "pickle.dump(tfidf_sent_vectors, open( \"tfidf_train_DT.p\", \"wb\" ))"
   ]
  },
  {
   "cell_type": "code",
   "execution_count": 28,
   "metadata": {},
   "outputs": [
    {
     "data": {
      "text/plain": [
       "(254919, 50)"
      ]
     },
     "execution_count": 28,
     "metadata": {},
     "output_type": "execute_result"
    }
   ],
   "source": [
    "tfidf_sent_vectors = pickle.load( open( \"tfidf_train_DT.p\", \"rb\" ))\n",
    "tfidf_sent_vectors.shape"
   ]
  },
  {
   "cell_type": "code",
   "execution_count": 25,
   "metadata": {},
   "outputs": [],
   "source": [
    "model = TfidfVectorizer()\n",
    "tf_idf_matrix = model.fit_transform(X_test)\n",
    "# we are converting a dictionary with word as a key, and the idf as a value\n",
    "dictionary = dict(zip(model.get_feature_names(), list(model.idf_)))\n",
    "\n",
    "tfidf_sent_vectors_test = []; # the tfidf-w2v for each sentence/review is stored in this list\n",
    "row=0;\n",
    "for sent in list_of_sent_test: # for each review/sentence \n",
    "    sent_vec = np.zeros(50) # as word vectors are of zero length\n",
    "    weight_sum =0; # num of words with a valid vector in the sentence/review\n",
    "    for word in sent: # for each word in a review/sentence\n",
    "        if word in w2v_words:\n",
    "            vec = w2v_model.wv[word]\n",
    "            # obtain the tf_idfidf of a word in a sentence/review\n",
    "            tf_idf = dictionary[word]*(sent.count(word)/len(sent))\n",
    "            sent_vec += (vec * tf_idf)\n",
    "            weight_sum += tf_idf\n",
    "    if weight_sum != 0:\n",
    "        sent_vec /= weight_sum\n",
    "    tfidf_sent_vectors_test.append(sent_vec)\n",
    "    row += 1\n",
    "tfidf_sent_vectors_test = np.array(tfidf_sent_vectors_test)\n",
    "pickle.dump(tfidf_sent_vectors_test, open( \"tfidf_test_DT.p\", \"wb\" ))"
   ]
  },
  {
   "cell_type": "code",
   "execution_count": 29,
   "metadata": {},
   "outputs": [
    {
     "data": {
      "text/plain": [
       "(109252, 50)"
      ]
     },
     "execution_count": 29,
     "metadata": {},
     "output_type": "execute_result"
    }
   ],
   "source": [
    "tfidf_sent_vectors_test = pickle.load( open( \"tfidf_test_DT.p\", \"rb\" ))\n",
    "tfidf_sent_vectors_test.shape"
   ]
  },
  {
   "cell_type": "code",
   "execution_count": 30,
   "metadata": {},
   "outputs": [],
   "source": [
    "X_train = tfidf_sent_vectors\n",
    "X_test = tfidf_sent_vectors_test"
   ]
  },
  {
   "cell_type": "code",
   "execution_count": 31,
   "metadata": {},
   "outputs": [
    {
     "data": {
      "text/plain": [
       "GridSearchCV(cv=TimeSeriesSplit(max_train_size=None, n_splits=5),\n",
       "       error_score='raise',\n",
       "       estimator=DecisionTreeClassifier(class_weight='balanced', criterion='gini',\n",
       "            max_depth=None, max_features=None, max_leaf_nodes=None,\n",
       "            min_impurity_decrease=0.0, min_impurity_split=None,\n",
       "            min_samples_leaf=1, min_samples_split=2,\n",
       "            min_weight_fraction_leaf=0.0, presort=False, random_state=None,\n",
       "            splitter='best'),\n",
       "       fit_params=None, iid=True, n_jobs=1,\n",
       "       param_grid={'max_depth': [3, 5, 7, 9, 11, 13, 15, 17, 19]},\n",
       "       pre_dispatch='2*n_jobs', refit=True, return_train_score='warn',\n",
       "       scoring=None, verbose=0)"
      ]
     },
     "execution_count": 31,
     "metadata": {},
     "output_type": "execute_result"
    }
   ],
   "source": [
    "param_grid = {'max_depth': [3,5,7,9,11,13,15,17,19]}\n",
    "tscv = TimeSeriesSplit(n_splits=5)\n",
    "model = GridSearchCV(DecisionTreeClassifier(class_weight = 'balanced'), param_grid, cv=tscv)\n",
    "model.fit(X_train, Y_train)"
   ]
  },
  {
   "cell_type": "code",
   "execution_count": 32,
   "metadata": {},
   "outputs": [
    {
     "data": {
      "text/plain": [
       "DecisionTreeClassifier(class_weight='balanced', criterion='gini',\n",
       "            max_depth=19, max_features=None, max_leaf_nodes=None,\n",
       "            min_impurity_decrease=0.0, min_impurity_split=None,\n",
       "            min_samples_leaf=1, min_samples_split=2,\n",
       "            min_weight_fraction_leaf=0.0, presort=False, random_state=None,\n",
       "            splitter='best')"
      ]
     },
     "execution_count": 32,
     "metadata": {},
     "output_type": "execute_result"
    }
   ],
   "source": [
    "model.best_estimator_"
   ]
  },
  {
   "cell_type": "code",
   "execution_count": 33,
   "metadata": {},
   "outputs": [
    {
     "data": {
      "text/plain": [
       "Text(0.5,1,'CV Error Vs Max-depth')"
      ]
     },
     "execution_count": 33,
     "metadata": {},
     "output_type": "execute_result"
    },
    {
     "data": {
      "image/png": "[encoded data removed]",
      "text/plain": [
       "<Figure size 432x288 with 1 Axes>"
      ]
     },
     "metadata": {},
     "output_type": "display_data"
    }
   ],
   "source": [
    "model_mean_scores = [result.mean_validation_score for result in model.grid_scores_]\n",
    "MSE = [1 - x for x in model_mean_scores]\n",
    "\n",
    "plt.plot([3,5,7,9,11,13,15,17,19], MSE,marker = '*')\n",
    "plt.xlabel('Max-depth')\n",
    "plt.ylabel('CV Error')\n",
    "plt.title('CV Error Vs Max-depth')"
   ]
  },
  {
   "cell_type": "code",
   "execution_count": 34,
   "metadata": {},
   "outputs": [
    {
     "name": "stdout",
     "output_type": "stream",
     "text": [
      "The accuracy of the model with max_depth 19 is 79.72179070752719%\n"
     ]
    }
   ],
   "source": [
    "max_depth_tfidfw2v = model.best_estimator_.max_depth\n",
    "accuracy_tfidfw2v = model.best_score_*100\n",
    "print(\"The accuracy of the model with max_depth {0} is {1}%\".format(max_depth_tfidfw2v,accuracy_tfidfw2v))"
   ]
  },
  {
   "cell_type": "code",
   "execution_count": 41,
   "metadata": {},
   "outputs": [
    {
     "name": "stdout",
     "output_type": "stream",
     "text": [
      "             precision    recall  f1-score   support\n",
      "\n",
      "   negative       0.78      1.00      0.88     17265\n",
      "   positive       1.00      0.95      0.97     91987\n",
      "\n",
      "avg / total       0.96      0.96      0.96    109252\n",
      "\n"
     ]
    }
   ],
   "source": [
    "#clf = DecisionTreeClassifier(max_depth = max_depth_avgw2v)\n",
    "# fitting the model\n",
    "model_tfidfw2v = model.best_estimator_.fit(X_test,Y_test)\n",
    "\n",
    "#Predicting the output\n",
    "Y_pred = model.best_estimator_.predict(X_test)\n",
    "\n",
    "# classification report\n",
    "print(classification_report(Y_test, Y_pred))"
   ]
  },
  {
   "cell_type": "code",
   "execution_count": 42,
   "metadata": {},
   "outputs": [
    {
     "data": {
      "image/png": "[encoded data removed]",
      "text/plain": [
       "<Figure size 432x288 with 2 Axes>"
      ]
     },
     "metadata": {},
     "output_type": "display_data"
    }
   ],
   "source": [
    "#Confusion matrix\n",
    "\n",
    "class_label = [\"negative\", \"positive\"]\n",
    "cm = confusion_matrix(Y_test, Y_pred)\n",
    "cm_array = pd.DataFrame(cm, index = class_label, columns = class_label)\n",
    "sns.heatmap(cm_array, annot = True, fmt = \"d\")\n",
    "plt.title(\"Confusion Matrix\")\n",
    "plt.xlabel(\"Predicted Label\")\n",
    "plt.ylabel(\"True Label\")\n",
    "plt.show()"
   ]
  },
  {
   "cell_type": "code",
   "execution_count": 43,
   "metadata": {},
   "outputs": [
    {
     "data": {
      "text/plain": [
       "'tfidfw2v_DT.png'"
      ]
     },
     "execution_count": 43,
     "metadata": {},
     "output_type": "execute_result"
    }
   ],
   "source": [
    "dot_data = tree.export_graphviz(model_tfidfw2v, out_file=None,\n",
    "                         filled=True, rounded=True,  \n",
    "                         special_characters=True)  \n",
    "graph = graphviz.Source(dot_data)  \n",
    "graph.format = 'png'\n",
    "graph.render('tfidfw2v_DT',view=True)\n"
   ]
  },
  {
   "cell_type": "code",
   "execution_count": 44,
   "metadata": {},
   "outputs": [
    {
     "data": {
      "text/plain": [
       "positive    42070\n",
       "negative     7930\n",
       "Name: Score, dtype: int64"
      ]
     },
     "execution_count": 44,
     "metadata": {},
     "output_type": "execute_result"
    }
   ],
   "source": [
    "#Sampling 30k points\n",
    "\n",
    "final_data = cleaned_data.sample(n=50000)\n",
    "final_data.shape\n",
    "final_data['Score'].value_counts()"
   ]
  },
  {
   "cell_type": "code",
   "execution_count": 45,
   "metadata": {},
   "outputs": [],
   "source": [
    "# sorting the data based on time\n",
    "\n",
    "final_data['Time'] = pd.to_datetime(final_data['Time']).sort_values()\n",
    "#final_data.head()"
   ]
  },
  {
   "cell_type": "markdown",
   "metadata": {},
   "source": [
    "### Bag Of Words"
   ]
  },
  {
   "cell_type": "code",
   "execution_count": 48,
   "metadata": {},
   "outputs": [
    {
     "name": "stdout",
     "output_type": "stream",
     "text": [
      "(35000,) (15000,)\n"
     ]
    },
    {
     "data": {
      "text/plain": [
       "pandas.core.series.Series"
      ]
     },
     "execution_count": 48,
     "metadata": {},
     "output_type": "execute_result"
    }
   ],
   "source": [
    "# Splitting the data into train and test\n",
    "X = final_data['CleanedText']\n",
    "Y = final_data['Score']\n",
    "\n",
    "X_train, X_test, Y_train, Y_test = train_test_split(X, Y, test_size = 0.3, random_state = 0)\n",
    "print(X_train.shape,X_test.shape)\n",
    "#print(X_train)\n",
    "type(X_train)"
   ]
  },
  {
   "cell_type": "code",
   "execution_count": 49,
   "metadata": {},
   "outputs": [
    {
     "name": "stdout",
     "output_type": "stream",
     "text": [
      "(35000, 23169) (15000, 23169)\n"
     ]
    }
   ],
   "source": [
    "# converting text to vector using Bag of Words\n",
    "unigram_bow = CountVectorizer()\n",
    "\n",
    "#Train vectorizer\n",
    "X_train = unigram_bow.fit_transform(X_train)\n",
    "\n",
    "#Test vectorizer\n",
    "X_test = unigram_bow.transform(X_test)\n",
    "\n",
    "print(X_train.shape,X_test.shape)\n"
   ]
  },
  {
   "cell_type": "code",
   "execution_count": 50,
   "metadata": {},
   "outputs": [
    {
     "data": {
      "text/plain": [
       "GridSearchCV(cv=TimeSeriesSplit(max_train_size=None, n_splits=5),\n",
       "       error_score='raise',\n",
       "       estimator=DecisionTreeClassifier(class_weight='balanced', criterion='gini',\n",
       "            max_depth=None, max_features=None, max_leaf_nodes=None,\n",
       "            min_impurity_decrease=0.0, min_impurity_split=None,\n",
       "            min_samples_leaf=1, min_samples_split=2,\n",
       "            min_weight_fraction_leaf=0.0, presort=False, random_state=None,\n",
       "            splitter='best'),\n",
       "       fit_params=None, iid=True, n_jobs=1,\n",
       "       param_grid={'max_depth': [3, 5, 7, 9, 11, 13, 15, 17, 19]},\n",
       "       pre_dispatch='2*n_jobs', refit=True, return_train_score='warn',\n",
       "       scoring=None, verbose=0)"
      ]
     },
     "execution_count": 50,
     "metadata": {},
     "output_type": "execute_result"
    }
   ],
   "source": [
    "param_grid = {'max_depth': [3,5,7,9,11,13,15,17,19]}\n",
    "tscv = TimeSeriesSplit(n_splits=5)\n",
    "model = GridSearchCV(DecisionTreeClassifier(class_weight = 'balanced'), param_grid, cv=tscv)\n",
    "model.fit(X_train, Y_train)"
   ]
  },
  {
   "cell_type": "code",
   "execution_count": 51,
   "metadata": {},
   "outputs": [
    {
     "data": {
      "text/plain": [
       "DecisionTreeClassifier(class_weight='balanced', criterion='gini',\n",
       "            max_depth=19, max_features=None, max_leaf_nodes=None,\n",
       "            min_impurity_decrease=0.0, min_impurity_split=None,\n",
       "            min_samples_leaf=1, min_samples_split=2,\n",
       "            min_weight_fraction_leaf=0.0, presort=False, random_state=None,\n",
       "            splitter='best')"
      ]
     },
     "execution_count": 51,
     "metadata": {},
     "output_type": "execute_result"
    }
   ],
   "source": [
    "model.best_estimator_"
   ]
  },
  {
   "cell_type": "code",
   "execution_count": 52,
   "metadata": {},
   "outputs": [
    {
     "data": {
      "text/plain": [
       "Text(0.5,1,'CV Error Vs Max-depth')"
      ]
     },
     "execution_count": 52,
     "metadata": {},
     "output_type": "execute_result"
    },
    {
     "data": {
      "image/png": "[encoded data removed]",
      "text/plain": [
       "<Figure size 432x288 with 1 Axes>"
      ]
     },
     "metadata": {},
     "output_type": "display_data"
    }
   ],
   "source": [
    "model_mean_scores = [result.mean_validation_score for result in model.grid_scores_]\n",
    "MSE = [1 - x for x in model_mean_scores]\n",
    "\n",
    "plt.plot([3,5,7,9,11,13,15,17,19], MSE,marker = '*')\n",
    "plt.xlabel('Max-depth')\n",
    "plt.ylabel('CV Error')\n",
    "plt.title('CV Error Vs Max-depth')"
   ]
  },
  {
   "cell_type": "code",
   "execution_count": 53,
   "metadata": {},
   "outputs": [
    {
     "name": "stdout",
     "output_type": "stream",
     "text": [
      "The accuracy of the model with max_depth 19 is 74.66483799074233%\n"
     ]
    }
   ],
   "source": [
    "max_depth_bow = model.best_estimator_.max_depth\n",
    "accuracy_bow = model.best_score_*100\n",
    "print(\"The accuracy of the model with max_depth {0} is {1}%\".format(max_depth_bow,accuracy_bow))"
   ]
  },
  {
   "cell_type": "code",
   "execution_count": 54,
   "metadata": {},
   "outputs": [
    {
     "name": "stdout",
     "output_type": "stream",
     "text": [
      "             precision    recall  f1-score   support\n",
      "\n",
      "   negative       0.47      0.91      0.62      2324\n",
      "   positive       0.98      0.82      0.89     12676\n",
      "\n",
      "avg / total       0.90      0.83      0.85     15000\n",
      "\n"
     ]
    }
   ],
   "source": [
    "#clf = DecisionTreeClassifier(max_depth = max_depth_avgw2v)\n",
    "# fitting the model\n",
    "model_bow = model.best_estimator_.fit(X_test,Y_test)\n",
    "\n",
    "#Predicting the output\n",
    "Y_pred = model.best_estimator_.predict(X_test)\n",
    "\n",
    "# classification report\n",
    "print(classification_report(Y_test, Y_pred))"
   ]
  },
  {
   "cell_type": "code",
   "execution_count": 55,
   "metadata": {},
   "outputs": [
    {
     "data": {
      "image/png": "[encoded data removed]",
      "text/plain": [
       "<Figure size 432x288 with 2 Axes>"
      ]
     },
     "metadata": {},
     "output_type": "display_data"
    }
   ],
   "source": [
    "#Confusion matrix\n",
    "\n",
    "class_label = [\"negative\", \"positive\"]\n",
    "cm = confusion_matrix(Y_test, Y_pred)\n",
    "cm_array = pd.DataFrame(cm, index = class_label, columns = class_label)\n",
    "sns.heatmap(cm_array, annot = True, fmt = \"d\")\n",
    "plt.title(\"Confusion Matrix\")\n",
    "plt.xlabel(\"Predicted Label\")\n",
    "plt.ylabel(\"True Label\")\n",
    "plt.show()"
   ]
  },
  {
   "cell_type": "code",
   "execution_count": 70,
   "metadata": {},
   "outputs": [
    {
     "data": {
      "text/plain": [
       "'bow_DT.png'"
      ]
     },
     "execution_count": 70,
     "metadata": {},
     "output_type": "execute_result"
    }
   ],
   "source": [
    "dot_data = tree.export_graphviz(model_bow, out_file=None,\n",
    "                         filled=True, rounded=True,  \n",
    "                         special_characters=True)  \n",
    "graph = graphviz.Source(dot_data)  \n",
    "graph.format = 'png'\n",
    "graph.render('bow_DT',view=True)\n"
   ]
  },
  {
   "cell_type": "markdown",
   "metadata": {},
   "source": [
    "### TF-IDF "
   ]
  },
  {
   "cell_type": "code",
   "execution_count": 57,
   "metadata": {},
   "outputs": [
    {
     "name": "stdout",
     "output_type": "stream",
     "text": [
      "(35000,) (15000,)\n"
     ]
    },
    {
     "data": {
      "text/plain": [
       "pandas.core.series.Series"
      ]
     },
     "execution_count": 57,
     "metadata": {},
     "output_type": "execute_result"
    }
   ],
   "source": [
    "#Spltting the data into train and test\n",
    "X = final_data['CleanedText']\n",
    "Y = final_data['Score']\n",
    "\n",
    "X_train, X_test, Y_train, Y_test = train_test_split(X, Y, test_size = 0.3, random_state = 0)\n",
    "print(X_train.shape,X_test.shape)\n",
    "#print(X_train)\n",
    "type(X_train)"
   ]
  },
  {
   "cell_type": "code",
   "execution_count": 58,
   "metadata": {},
   "outputs": [
    {
     "name": "stdout",
     "output_type": "stream",
     "text": [
      "(35000, 603734) (15000, 603734)\n"
     ]
    }
   ],
   "source": [
    "#Converting text to vector using TF-IDF vectorizer\n",
    "tfidf = TfidfVectorizer(ngram_range=(1,2))\n",
    "\n",
    "#Train vectorizer\n",
    "X_train = tfidf.fit_transform(X_train)\n",
    "X_test = tfidf.transform(X_test)\n",
    "print(X_train.shape,X_test.shape)"
   ]
  },
  {
   "cell_type": "code",
   "execution_count": 59,
   "metadata": {},
   "outputs": [
    {
     "data": {
      "text/plain": [
       "GridSearchCV(cv=TimeSeriesSplit(max_train_size=None, n_splits=5),\n",
       "       error_score='raise',\n",
       "       estimator=DecisionTreeClassifier(class_weight='balanced', criterion='gini',\n",
       "            max_depth=None, max_features=None, max_leaf_nodes=None,\n",
       "            min_impurity_decrease=0.0, min_impurity_split=None,\n",
       "            min_samples_leaf=1, min_samples_split=2,\n",
       "            min_weight_fraction_leaf=0.0, presort=False, random_state=None,\n",
       "            splitter='best'),\n",
       "       fit_params=None, iid=True, n_jobs=1,\n",
       "       param_grid={'max_depth': [3, 5, 7, 9, 11, 13, 15, 17, 19]},\n",
       "       pre_dispatch='2*n_jobs', refit=True, return_train_score='warn',\n",
       "       scoring=None, verbose=0)"
      ]
     },
     "execution_count": 59,
     "metadata": {},
     "output_type": "execute_result"
    }
   ],
   "source": [
    "param_grid = {'max_depth': [3,5,7,9,11,13,15,17,19]}\n",
    "tscv = TimeSeriesSplit(n_splits=5)\n",
    "model = GridSearchCV(DecisionTreeClassifier(class_weight = 'balanced'), param_grid, cv=tscv)\n",
    "model.fit(X_train, Y_train)"
   ]
  },
  {
   "cell_type": "code",
   "execution_count": 60,
   "metadata": {},
   "outputs": [
    {
     "data": {
      "text/plain": [
       "DecisionTreeClassifier(class_weight='balanced', criterion='gini',\n",
       "            max_depth=17, max_features=None, max_leaf_nodes=None,\n",
       "            min_impurity_decrease=0.0, min_impurity_split=None,\n",
       "            min_samples_leaf=1, min_samples_split=2,\n",
       "            min_weight_fraction_leaf=0.0, presort=False, random_state=None,\n",
       "            splitter='best')"
      ]
     },
     "execution_count": 60,
     "metadata": {},
     "output_type": "execute_result"
    }
   ],
   "source": [
    "model.best_estimator_"
   ]
  },
  {
   "cell_type": "code",
   "execution_count": 61,
   "metadata": {},
   "outputs": [
    {
     "data": {
      "text/plain": [
       "Text(0.5,1,'CV Error Vs Max-depth')"
      ]
     },
     "execution_count": 61,
     "metadata": {},
     "output_type": "execute_result"
    },
    {
     "data": {
      "image/png": "[encoded data removed]",
      "text/plain": [
       "<Figure size 432x288 with 1 Axes>"
      ]
     },
     "metadata": {},
     "output_type": "display_data"
    }
   ],
   "source": [
    "model_mean_scores = [result.mean_validation_score for result in model.grid_scores_]\n",
    "MSE = [1 - x for x in model_mean_scores]\n",
    "\n",
    "plt.plot([3,5,7,9,11,13,15,17,19], MSE,marker = '*')\n",
    "plt.xlabel('Max-depth')\n",
    "plt.ylabel('CV Error')\n",
    "plt.title('CV Error Vs Max-depth')"
   ]
  },
  {
   "cell_type": "code",
   "execution_count": 62,
   "metadata": {},
   "outputs": [
    {
     "name": "stdout",
     "output_type": "stream",
     "text": [
      "The accuracy of the model with max_depth 17 is 75.13800788616493%\n"
     ]
    }
   ],
   "source": [
    "max_depth_tfidf = model.best_estimator_.max_depth\n",
    "accuracy_tfidf = model.best_score_*100\n",
    "print(\"The accuracy of the model with max_depth {0} is {1}%\".format(max_depth_tfidf,accuracy_tfidf))"
   ]
  },
  {
   "cell_type": "code",
   "execution_count": 63,
   "metadata": {},
   "outputs": [
    {
     "name": "stdout",
     "output_type": "stream",
     "text": [
      "             precision    recall  f1-score   support\n",
      "\n",
      "   negative       0.41      0.94      0.57      2324\n",
      "   positive       0.99      0.75      0.85     12676\n",
      "\n",
      "avg / total       0.90      0.78      0.81     15000\n",
      "\n"
     ]
    }
   ],
   "source": [
    "#clf = DecisionTreeClassifier(max_depth = max_depth_avgw2v)\n",
    "# fitting the model\n",
    "model_tfidf = model.best_estimator_.fit(X_test,Y_test)\n",
    "\n",
    "#Predicting the output\n",
    "Y_pred = model.best_estimator_.predict(X_test)\n",
    "\n",
    "# classification report\n",
    "print(classification_report(Y_test, Y_pred))"
   ]
  },
  {
   "cell_type": "code",
   "execution_count": 64,
   "metadata": {},
   "outputs": [
    {
     "data": {
      "image/png": "[encoded data removed]",
      "text/plain": [
       "<Figure size 432x288 with 2 Axes>"
      ]
     },
     "metadata": {},
     "output_type": "display_data"
    }
   ],
   "source": [
    "#Confusion matrix\n",
    "\n",
    "class_label = [\"negative\", \"positive\"]\n",
    "cm = confusion_matrix(Y_test, Y_pred)\n",
    "cm_array = pd.DataFrame(cm, index = class_label, columns = class_label)\n",
    "sns.heatmap(cm_array, annot = True, fmt = \"d\")\n",
    "plt.title(\"Confusion Matrix\")\n",
    "plt.xlabel(\"Predicted Label\")\n",
    "plt.ylabel(\"True Label\")\n",
    "plt.show()"
   ]
  },
  {
   "cell_type": "code",
   "execution_count": 69,
   "metadata": {},
   "outputs": [
    {
     "data": {
      "text/plain": [
       "'tfidf_DT.png'"
      ]
     },
     "execution_count": 69,
     "metadata": {},
     "output_type": "execute_result"
    }
   ],
   "source": [
    "dot_data = tree.export_graphviz(model_tfidf, out_file=None,\n",
    "                         filled=True, rounded=True,  \n",
    "                         special_characters=True)  \n",
    "graph = graphviz.Source(dot_data)  \n",
    "graph.format = 'png'\n",
    "graph.render('tfidf_DT',view=True)\n"
   ]
  },
  {
   "cell_type": "code",
   "execution_count": 68,
   "metadata": {},
   "outputs": [
    {
     "name": "stdout",
     "output_type": "stream",
     "text": [
      "+---------------+-----------+----------+\n",
      "| Vectorisation | Max_Depth | F1-score |\n",
      "+---------------+-----------+----------+\n",
      "|      BOW      |     19    |   0.85   |\n",
      "|     TF-IDF    |     17    |   0.81   |\n",
      "|  Average W2V  |     19    |   0.97   |\n",
      "|   TF-IDF W2V  |     19    |   0.96   |\n",
      "+---------------+-----------+----------+\n"
     ]
    }
   ],
   "source": [
    "x = PrettyTable()\n",
    "\n",
    "x.field_names = [\"Vectorisation\", \"Max_Depth\", \"F1-score\"]\n",
    "\n",
    "x.add_row([\"BOW\",max_depth_bow, '0.85'])\n",
    "\n",
    "x.add_row([\"TF-IDF\",max_depth_tfidf,'0.81'])\n",
    "\n",
    "x.add_row([\"Average W2V\",max_depth_avgw2v,'0.97'])\n",
    "\n",
    "x.add_row([\"TF-IDF W2V\",max_depth_tfidfw2v,'0.96'])\n",
    "\n",
    "\n",
    "print(x)"
   ]
  },
  {
   "cell_type": "markdown",
   "metadata": {},
   "source": [
    "### Conclusions"
   ]
  },
  {
   "cell_type": "markdown",
   "metadata": {},
   "source": [
    "* Decision tree worked well on Amazon food reviews \n",
    "* All the vectorisation techinques classified the negative and positive labels correctly with minimum misclassification\n",
    "* Out of all vectorisations Average Word2Vec performed well.\n",
    "* Decision trees is faster in its traning time than other algorithms like KNN, Logistic, SVM."
   ]
  }
 ],
 "metadata": {
  "kernelspec": {
   "display_name": "Python 3",
   "language": "python",
   "name": "python3"
  },
  "language_info": {
   "codemirror_mode": {
    "name": "ipython",
    "version": 3
   },
   "file_extension": ".py",
   "mimetype": "text/x-python",
   "name": "python",
   "nbconvert_exporter": "python",
   "pygments_lexer": "ipython3",
   "version": "3.6.5"
  }
 },
 "nbformat": 4,
 "nbformat_minor": 2
}
