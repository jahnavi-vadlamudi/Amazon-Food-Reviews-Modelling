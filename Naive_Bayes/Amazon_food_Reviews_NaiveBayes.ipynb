{
 "cells": [
  {
   "cell_type": "markdown",
   "metadata": {},
   "source": [
    "# Amazon Fine Food Reviews Analysis\n",
    "\n",
    "The Amazon Fine Food Reviews dataset consists of reviews of fine foods from Amazon.\n",
    "\n",
    "Number of reviews: 568,454\n",
    "Number of users: 256,059\n",
    "Number of products: 74,258\n",
    "Timespan: Oct 1999 - Oct 2012\n",
    "Number of Attributes/Columns in data: 10\n",
    "\n",
    "Attribute Information:\n",
    "\n",
    "1. Id\n",
    "2. ProductId - unique identifier for the product\n",
    "3. UserId - unqiue identifier for the user\n",
    "4. ProfileName\n",
    "5. HelpfulnessNumerator - number of users who found the review helpful\n",
    "6. HelpfulnessDenominator - number of users who indicated whether they found the review helpful or not\n",
    "7. Score - rating between 1 and 5\n",
    "8. Time - timestamp for the review\n",
    "9. Summary - brief summary of the review\n",
    "10. Text - text of the review\n",
    "\n",
    "Objective:\n",
    "Given a review, determine whether the review is positive (Rating of 4 or 5) or negative (rating of 1 or 2).\n",
    "\n"
   ]
  },
  {
   "cell_type": "markdown",
   "metadata": {},
   "source": [
    "### 1 Importing all necessary libraries"
   ]
  },
  {
   "cell_type": "code",
   "execution_count": 1,
   "metadata": {},
   "outputs": [
    {
     "name": "stderr",
     "output_type": "stream",
     "text": [
      "C:\\Users\\javadlam\\AppData\\Local\\Continuum\\anaconda3\\lib\\site-packages\\gensim\\utils.py:1197: UserWarning: detected Windows; aliasing chunkize to chunkize_serial\n",
      "  warnings.warn(\"detected Windows; aliasing chunkize to chunkize_serial\")\n",
      "C:\\Users\\javadlam\\AppData\\Local\\Continuum\\anaconda3\\lib\\site-packages\\sklearn\\cross_validation.py:41: DeprecationWarning: This module was deprecated in version 0.18 in favor of the model_selection module into which all the refactored classes and functions are moved. Also note that the interface of the new CV iterators are different from that of this module. This module will be removed in 0.20.\n",
      "  \"This module will be removed in 0.20.\", DeprecationWarning)\n"
     ]
    }
   ],
   "source": [
    "import pandas as pd\n",
    "import numpy as np\n",
    "import matplotlib.pyplot as plt\n",
    "import sqlite3 \n",
    "import nltk\n",
    "import string\n",
    "import seaborn as sns\n",
    "from sklearn.feature_extraction.text import TfidfTransformer\n",
    "from sklearn.feature_extraction.text import TfidfVectorizer\n",
    "\n",
    "from sklearn.feature_extraction.text import CountVectorizer\n",
    "from sklearn.metrics import confusion_matrix\n",
    "from sklearn import metrics\n",
    "from sklearn.metrics import roc_curve, auc\n",
    "from nltk.stem.porter import PorterStemmer\n",
    "from gensim.models import Word2Vec\n",
    "import re\n",
    "from nltk.corpus import stopwords\n",
    "from nltk.stem import PorterStemmer\n",
    "from nltk.stem.wordnet import WordNetLemmatizer\n",
    "import warnings\n",
    "from sklearn.manifold import TSNE\n",
    "from sklearn.cross_validation import train_test_split\n",
    "from sklearn.naive_bayes import BernoulliNB\n",
    "from sklearn.naive_bayes import MultinomialNB\n",
    "from sklearn.naive_bayes import GaussianNB\n",
    "from sklearn.metrics import accuracy_score\n",
    "from sklearn.cross_validation import cross_val_score\n",
    "from sklearn.metrics import accuracy_score\n",
    "from sklearn import cross_validation\n",
    "from sklearn.metrics import f1_score\n",
    "from sklearn.metrics import recall_score\n",
    "from sklearn.metrics import precision_score\n",
    "from sklearn.metrics import classification_report\n",
    "from sklearn.metrics import confusion_matrix\n",
    "warnings.filterwarnings(\"ignore\")\n"
   ]
  },
  {
   "cell_type": "markdown",
   "metadata": {},
   "source": [
    "### 2 Loading the data"
   ]
  },
  {
   "cell_type": "code",
   "execution_count": 2,
   "metadata": {},
   "outputs": [
    {
     "data": {
      "text/plain": [
       "(525814, 10)"
      ]
     },
     "execution_count": 2,
     "metadata": {},
     "output_type": "execute_result"
    }
   ],
   "source": [
    "\n",
    "#connecting to database\n",
    "con = sqlite3.connect('database.sqlite')\n",
    "filtered_data = pd.read_sql_query(\"\"\" SELECT * FROM Reviews WHERE Score != 3 \"\"\", con) \n",
    "\n",
    "# Give reviews with Score>3 a positive rating, and reviews with a score<3 a negative rating.\n",
    "def partition(x):\n",
    "    if x < 3:\n",
    "        return 'negative'\n",
    "    return 'positive'\n",
    "\n",
    "#changing reviews with score less than 3 to be positive and vice-versa\n",
    "actualScore = filtered_data['Score']\n",
    "filtered_data['Score'] = actualScore.map(partition)\n",
    "\n",
    "\n",
    "filtered_data.shape\n",
    "#filtered_data.head()"
   ]
  },
  {
   "cell_type": "markdown",
   "metadata": {},
   "source": [
    "### 3 Data Cleaning"
   ]
  },
  {
   "cell_type": "code",
   "execution_count": 3,
   "metadata": {},
   "outputs": [
    {
     "data": {
      "text/plain": [
       "positive    307061\n",
       "negative     57110\n",
       "Name: Score, dtype: int64"
      ]
     },
     "execution_count": 3,
     "metadata": {},
     "output_type": "execute_result"
    }
   ],
   "source": [
    "#sorting the data according to productId\n",
    "sorted_data=filtered_data.sort_values('ProductId', axis=0, ascending=True, inplace=False, kind='quicksort', na_position='last')\n",
    "\n",
    "#Deduplication of entries\n",
    "final=sorted_data.drop_duplicates(subset={\"UserId\",\"ProfileName\",\"Time\",\"Text\"}, keep='first', inplace=False)\n",
    "\n",
    "#Removing entries where helfulnessNumerator>HelpfulnessDenominator\n",
    "final=final[final.HelpfulnessNumerator<=final.HelpfulnessDenominator]\n",
    "\n",
    "final.shape\n",
    "final['Score'].value_counts()\n",
    "\n"
   ]
  },
  {
   "cell_type": "markdown",
   "metadata": {},
   "source": [
    "### 4 Text Preprocessing"
   ]
  },
  {
   "cell_type": "code",
   "execution_count": 4,
   "metadata": {},
   "outputs": [
    {
     "name": "stdout",
     "output_type": "stream",
     "text": [
      "[nltk_data] Downloading package stopwords to\n",
      "[nltk_data]     C:\\Users\\javadlam\\AppData\\Roaming\\nltk_data...\n",
      "[nltk_data]   Package stopwords is already up-to-date!\n"
     ]
    },
    {
     "data": {
      "text/plain": [
       "(364171, 11)"
      ]
     },
     "execution_count": 4,
     "metadata": {},
     "output_type": "execute_result"
    }
   ],
   "source": [
    "nltk.download('stopwords')\n",
    "stop = set(stopwords.words('english'))\n",
    "sno = nltk.stem.SnowballStemmer('english')\n",
    "\n",
    "def cleanhtml(sentence): #function to clean the word of any html-tags\n",
    "    cleanr = re.compile('<.*?>')\n",
    "    cleantext = re.sub(cleanr, ' ', sentence)\n",
    "    return cleantext\n",
    "def cleanpunc(sentence): #function to clean the word of any punctuation or special characters\n",
    "    cleaned = re.sub(r'[?|!|\\'|\"|#]',r'',sentence)\n",
    "    cleaned = re.sub(r'[.|,|)|(|\\|/]',r' ',cleaned)\n",
    "    return  cleaned\n",
    "\n",
    "i=0\n",
    "str1=' '\n",
    "final_string=[]\n",
    "all_positive_words=[] # store words from +ve reviews here\n",
    "all_negative_words=[] # store words from -ve reviews here.\n",
    "s=''\n",
    "for sent in final['Text'].values:\n",
    "    filtered_sentence=[]\n",
    "    sent=cleanhtml(sent) # remove HTMl tags\n",
    "    for w in sent.split():\n",
    "        for cleaned_words in cleanpunc(w).split():\n",
    "            if((cleaned_words.isalpha()) & (len(cleaned_words)>2)):    \n",
    "                if(cleaned_words.lower() not in stop):\n",
    "                    s=(sno.stem(cleaned_words.lower())).encode('utf8')\n",
    "                    filtered_sentence.append(s)\n",
    "                    if (final['Score'].values)[i] == 'positive': \n",
    "                        all_positive_words.append(s) #list of all words used to describe positive reviews\n",
    "                    if(final['Score'].values)[i] == 'negative':\n",
    "                        all_negative_words.append(s) #list of all words used to describe negative reviews reviews\n",
    "                else:\n",
    "                    continue\n",
    "            else:\n",
    "                continue \n",
    "    #print(filtered_sentence)\n",
    "    str1 = b\" \".join(filtered_sentence) #final string of cleaned words\n",
    "    #print(\"***********************************************************************\")\n",
    "    \n",
    "    final_string.append(str1)\n",
    "    i+=1\n",
    "    \n",
    "final['CleanedText']=final_string #adding a column of CleanedText which displays the data after pre-processing of the review \n",
    "final['CleanedText']=final['CleanedText'].str.decode(\"utf-8\")\n",
    "final.shape"
   ]
  },
  {
   "cell_type": "code",
   "execution_count": 5,
   "metadata": {},
   "outputs": [],
   "source": [
    "# store final table into an SQlLite table for future\n",
    "conn = sqlite3.connect('final.sqlite')\n",
    "c=conn.cursor()\n",
    "conn.text_factory = str\n",
    "final.to_sql('Reviews', conn, schema=None, if_exists='replace', index=True, index_label=None, chunksize=None, dtype=None)"
   ]
  },
  {
   "cell_type": "code",
   "execution_count": 6,
   "metadata": {},
   "outputs": [
    {
     "data": {
      "text/plain": [
       "(364171, 12)"
      ]
     },
     "execution_count": 6,
     "metadata": {},
     "output_type": "execute_result"
    }
   ],
   "source": [
    "import sqlite3\n",
    "con = sqlite3.connect(\"final.sqlite\")\n",
    "cleaned_data = pd.read_sql_query(\"select * from Reviews\", con)\n",
    "cleaned_data.shape\n",
    "#cleaned_data.head()"
   ]
  },
  {
   "cell_type": "code",
   "execution_count": 7,
   "metadata": {},
   "outputs": [
    {
     "data": {
      "text/plain": [
       "positive    210719\n",
       "negative     39281\n",
       "Name: Score, dtype: int64"
      ]
     },
     "execution_count": 7,
     "metadata": {},
     "output_type": "execute_result"
    }
   ],
   "source": [
    "#Sampling 250k points\n",
    "\n",
    "final_data = cleaned_data.sample(n=250000)\n",
    "final_data.shape\n",
    "final_data['Score'].value_counts()"
   ]
  },
  {
   "cell_type": "code",
   "execution_count": 30,
   "metadata": {},
   "outputs": [
    {
     "data": {
      "text/html": [
       "<div>\n",
       "<style scoped>\n",
       "    .dataframe tbody tr th:only-of-type {\n",
       "        vertical-align: middle;\n",
       "    }\n",
       "\n",
       "    .dataframe tbody tr th {\n",
       "        vertical-align: top;\n",
       "    }\n",
       "\n",
       "    .dataframe thead th {\n",
       "        text-align: right;\n",
       "    }\n",
       "</style>\n",
       "<table border=\"1\" class=\"dataframe\">\n",
       "  <thead>\n",
       "    <tr style=\"text-align: right;\">\n",
       "      <th></th>\n",
       "      <th>index</th>\n",
       "      <th>Id</th>\n",
       "      <th>ProductId</th>\n",
       "      <th>UserId</th>\n",
       "      <th>ProfileName</th>\n",
       "      <th>HelpfulnessNumerator</th>\n",
       "      <th>HelpfulnessDenominator</th>\n",
       "      <th>Score</th>\n",
       "      <th>Time</th>\n",
       "      <th>Summary</th>\n",
       "      <th>Text</th>\n",
       "      <th>CleanedText</th>\n",
       "    </tr>\n",
       "  </thead>\n",
       "  <tbody>\n",
       "    <tr>\n",
       "      <th>164883</th>\n",
       "      <td>266847</td>\n",
       "      <td>289256</td>\n",
       "      <td>B001E52WNS</td>\n",
       "      <td>A32WJDZT9QTKQ6</td>\n",
       "      <td>Tanya Gutierrez \"Coffee Addict\"</td>\n",
       "      <td>4</td>\n",
       "      <td>4</td>\n",
       "      <td>positive</td>\n",
       "      <td>1970-01-01 00:00:01.256428800</td>\n",
       "      <td>Great coffee mix</td>\n",
       "      <td>I was the kind of person that had to have my S...</td>\n",
       "      <td>kind person starbuck morn tri cafe vienna trul...</td>\n",
       "    </tr>\n",
       "    <tr>\n",
       "      <th>58053</th>\n",
       "      <td>104984</td>\n",
       "      <td>113970</td>\n",
       "      <td>B000EYRHL2</td>\n",
       "      <td>A1XP6TWOP1L4JN</td>\n",
       "      <td>Kimberly \"Katy's Mom\"</td>\n",
       "      <td>2</td>\n",
       "      <td>2</td>\n",
       "      <td>positive</td>\n",
       "      <td>1970-01-01 00:00:01.179446400</td>\n",
       "      <td>The Best Dried Fruit</td>\n",
       "      <td>This is the best dried fruit I've had.  There ...</td>\n",
       "      <td>best dri fruit ive big whole berri great tast ...</td>\n",
       "    </tr>\n",
       "    <tr>\n",
       "      <th>61396</th>\n",
       "      <td>232380</td>\n",
       "      <td>252069</td>\n",
       "      <td>B000F6SNQM</td>\n",
       "      <td>A20CKV0E0GP4V1</td>\n",
       "      <td>Larry G. Monroe \"Word Study\"</td>\n",
       "      <td>0</td>\n",
       "      <td>0</td>\n",
       "      <td>positive</td>\n",
       "      <td>1970-01-01 00:00:01.242000000</td>\n",
       "      <td>Life is good w/Good Earth</td>\n",
       "      <td>The Lemon Grass, and a hint of Ment, is just t...</td>\n",
       "      <td>lemon grass hint ment right touch make greates...</td>\n",
       "    </tr>\n",
       "    <tr>\n",
       "      <th>323153</th>\n",
       "      <td>74612</td>\n",
       "      <td>81168</td>\n",
       "      <td>B004TDU0RW</td>\n",
       "      <td>A3UGJF5DSOGHV3</td>\n",
       "      <td>M. Lim</td>\n",
       "      <td>0</td>\n",
       "      <td>0</td>\n",
       "      <td>positive</td>\n",
       "      <td>1970-01-01 00:00:01.333238400</td>\n",
       "      <td>So delicious and so wholesome</td>\n",
       "      <td>For those who does not like the bones in sardi...</td>\n",
       "      <td>like bone sardin kipper good altern one tomato...</td>\n",
       "    </tr>\n",
       "    <tr>\n",
       "      <th>66641</th>\n",
       "      <td>403565</td>\n",
       "      <td>436377</td>\n",
       "      <td>B000FFLTDM</td>\n",
       "      <td>A3OKGKMZ1W8A7Y</td>\n",
       "      <td>Kelly Mullins</td>\n",
       "      <td>2</td>\n",
       "      <td>2</td>\n",
       "      <td>positive</td>\n",
       "      <td>1970-01-01 00:00:01.286841600</td>\n",
       "      <td>Yummy!</td>\n",
       "      <td>I love this soup! I keep it in my trunk, in my...</td>\n",
       "      <td>love soup keep trunk desk work cabinet home an...</td>\n",
       "    </tr>\n",
       "  </tbody>\n",
       "</table>\n",
       "</div>"
      ],
      "text/plain": [
       "         index      Id   ProductId          UserId  \\\n",
       "164883  266847  289256  B001E52WNS  A32WJDZT9QTKQ6   \n",
       "58053   104984  113970  B000EYRHL2  A1XP6TWOP1L4JN   \n",
       "61396   232380  252069  B000F6SNQM  A20CKV0E0GP4V1   \n",
       "323153   74612   81168  B004TDU0RW  A3UGJF5DSOGHV3   \n",
       "66641   403565  436377  B000FFLTDM  A3OKGKMZ1W8A7Y   \n",
       "\n",
       "                            ProfileName  HelpfulnessNumerator  \\\n",
       "164883  Tanya Gutierrez \"Coffee Addict\"                     4   \n",
       "58053             Kimberly \"Katy's Mom\"                     2   \n",
       "61396      Larry G. Monroe \"Word Study\"                     0   \n",
       "323153                           M. Lim                     0   \n",
       "66641                     Kelly Mullins                     2   \n",
       "\n",
       "        HelpfulnessDenominator     Score                          Time  \\\n",
       "164883                       4  positive 1970-01-01 00:00:01.256428800   \n",
       "58053                        2  positive 1970-01-01 00:00:01.179446400   \n",
       "61396                        0  positive 1970-01-01 00:00:01.242000000   \n",
       "323153                       0  positive 1970-01-01 00:00:01.333238400   \n",
       "66641                        2  positive 1970-01-01 00:00:01.286841600   \n",
       "\n",
       "                              Summary  \\\n",
       "164883               Great coffee mix   \n",
       "58053            The Best Dried Fruit   \n",
       "61396       Life is good w/Good Earth   \n",
       "323153  So delicious and so wholesome   \n",
       "66641                          Yummy!   \n",
       "\n",
       "                                                     Text  \\\n",
       "164883  I was the kind of person that had to have my S...   \n",
       "58053   This is the best dried fruit I've had.  There ...   \n",
       "61396   The Lemon Grass, and a hint of Ment, is just t...   \n",
       "323153  For those who does not like the bones in sardi...   \n",
       "66641   I love this soup! I keep it in my trunk, in my...   \n",
       "\n",
       "                                              CleanedText  \n",
       "164883  kind person starbuck morn tri cafe vienna trul...  \n",
       "58053   best dri fruit ive big whole berri great tast ...  \n",
       "61396   lemon grass hint ment right touch make greates...  \n",
       "323153  like bone sardin kipper good altern one tomato...  \n",
       "66641   love soup keep trunk desk work cabinet home an...  "
      ]
     },
     "execution_count": 30,
     "metadata": {},
     "output_type": "execute_result"
    }
   ],
   "source": [
    "# sorting the data based on time\n",
    "\n",
    "final_data['Time'] = pd.to_datetime(final_data['Time']).sort_values()\n",
    "final_data.head()"
   ]
  },
  {
   "cell_type": "markdown",
   "metadata": {},
   "source": [
    "#### Function to find optimal alpha for different vectorisation techniques"
   ]
  },
  {
   "cell_type": "code",
   "execution_count": 31,
   "metadata": {},
   "outputs": [],
   "source": [
    "def find_optimal_alpha(X_train,Y_train):\n",
    "   \n",
    "    alphaRange = [0.00001, 0.0001, 0.001, 0.01, 1, 10, 100]\n",
    "    cv_scores = []\n",
    "    mnb = MultinomialNB()   \n",
    "    for a in alphaRange:\n",
    "        mnb = MultinomialNB(alpha = a)\n",
    "        scores = cross_val_score(mnb, X_train, Y_train, cv=10, scoring='accuracy')\n",
    "        cv_scores.append(scores.mean())\n",
    "    \n",
    "    MSE = [1 - x for x in cv_scores]\n",
    "    optimal_alpha = alphaRange[MSE.index(min(MSE))]  # determining best alpha\n",
    "        \n",
    "    print('\\nBest alpha is %f.' % optimal_alpha)\n",
    "    plt.plot(alphaRange, MSE, marker = '*') \n",
    "\n",
    "    #for xy in zip(alpha_values, np.round(MSE,3)):\n",
    "    #plt.annotate('(%s, %s)' % xy, xy=xy, textcoords='data')\n",
    "    plt.title(\"Misclassification Error vs alpha\")\n",
    "    plt.xlabel('value of alpha')\n",
    "    plt.ylabel('Misclassification Error')\n",
    "    plt.show()\n",
    "    \n",
    "    return optimal_alpha"
   ]
  },
  {
   "cell_type": "markdown",
   "metadata": {},
   "source": [
    "#### Function to find the top 25 features"
   ]
  },
  {
   "cell_type": "code",
   "execution_count": 32,
   "metadata": {},
   "outputs": [],
   "source": [
    "def find_imp_features(vectorizer):\n",
    "    \n",
    "    class_labels = mnb_optimal.classes_\n",
    "    feature_names =vectorizer.get_feature_names()\n",
    "    top_class_negative = sorted(zip(mnb_optimal.feature_count_[0], feature_names),reverse=True)[:25]\n",
    "    top_class_positive = sorted(zip(mnb_optimal.feature_count_[1], feature_names),reverse=True)[:25]\n",
    "    print(\"Top 25 features in positive reviews\\n\")\n",
    "    for coef, feat in top_class_positive:\n",
    "        print(class_labels[1], coef, feat) \n",
    "    print(\"-------------------------------------------------------------------------\")\n",
    "    print(\"Top 25 features in negative reviews\\n\")\n",
    "    for coef, feat in top_class_negative:\n",
    "        print(class_labels[0], coef, feat)\n"
   ]
  },
  {
   "cell_type": "markdown",
   "metadata": {},
   "source": [
    "### 5 BOW"
   ]
  },
  {
   "cell_type": "code",
   "execution_count": 33,
   "metadata": {},
   "outputs": [
    {
     "name": "stdout",
     "output_type": "stream",
     "text": [
      "(175000,) (75000,)\n"
     ]
    },
    {
     "data": {
      "text/plain": [
       "pandas.core.series.Series"
      ]
     },
     "execution_count": 33,
     "metadata": {},
     "output_type": "execute_result"
    }
   ],
   "source": [
    "# Splitting the data into train and test\n",
    "X = final_data['CleanedText']\n",
    "Y = final_data['Score']\n",
    "\n",
    "X_train, X_test, Y_train, Y_test = train_test_split(X, Y, test_size = 0.3, random_state = 0)\n",
    "print(X_train.shape,X_test.shape)\n",
    "#print(X_train)\n",
    "type(X_train)"
   ]
  },
  {
   "cell_type": "code",
   "execution_count": 34,
   "metadata": {},
   "outputs": [
    {
     "name": "stdout",
     "output_type": "stream",
     "text": [
      "(175000, 50171)\n",
      "(75000, 50171)\n"
     ]
    },
    {
     "data": {
      "text/plain": [
       "scipy.sparse.csr.csr_matrix"
      ]
     },
     "execution_count": 34,
     "metadata": {},
     "output_type": "execute_result"
    }
   ],
   "source": [
    "# converting text to vector using Bag of Words\n",
    "unigram_bow = CountVectorizer()\n",
    "\n",
    "#Train vectorizer\n",
    "X_train = unigram_bow.fit_transform(X_train)\n",
    "print(X_train.shape)\n",
    "\n",
    "#Test vectorizer\n",
    "X_test = unigram_bow.transform(X_test)\n",
    "print(X_test.shape)\n",
    "\n",
    "type(X_train)"
   ]
  },
  {
   "cell_type": "code",
   "execution_count": 35,
   "metadata": {},
   "outputs": [
    {
     "name": "stdout",
     "output_type": "stream",
     "text": [
      "\n",
      "Best alpha is 1.000000.\n"
     ]
    },
    {
     "data": {
      "image/png": "[encoded data removed]",
      "text/plain": [
       "<Figure size 432x288 with 1 Axes>"
      ]
     },
     "metadata": {},
     "output_type": "display_data"
    }
   ],
   "source": [
    "# finding optimal alpha\n",
    "optimal_alpha_bow = find_optimal_alpha(X_train, Y_train)"
   ]
  },
  {
   "cell_type": "code",
   "execution_count": 36,
   "metadata": {},
   "outputs": [
    {
     "name": "stdout",
     "output_type": "stream",
     "text": [
      "Train accuracy 0.9118457142857143\n",
      "\n",
      "Test accuracy for alpha = 1 is 90.185333%\n"
     ]
    }
   ],
   "source": [
    "# Learning the model with optimal alpha\n",
    "mnb_optimal = MultinomialNB(alpha = optimal_alpha_bow)\n",
    "# fitting the model\n",
    "mnb_optimal.fit(X_train,Y_train)\n",
    "\n",
    "#Predicting the output\n",
    "pred = mnb_optimal.predict(X_test)\n",
    "\n",
    "train_acc_bow = mnb_optimal.score(X_train, Y_train)\n",
    "print(\"Train accuracy\", train_acc_bow)\n",
    "\n",
    "acc_bow = accuracy_score(Y_test, pred) * 100\n",
    "print('\\nTest accuracy for alpha = %d is %f%%' % (optimal_alpha_bow, acc_bow))"
   ]
  },
  {
   "cell_type": "code",
   "execution_count": 37,
   "metadata": {},
   "outputs": [
    {
     "name": "stdout",
     "output_type": "stream",
     "text": [
      "             precision    recall  f1-score   support\n",
      "\n",
      "   negative       0.70      0.66      0.68     11813\n",
      "   positive       0.94      0.95      0.94     63187\n",
      "\n",
      "avg / total       0.90      0.90      0.90     75000\n",
      "\n"
     ]
    }
   ],
   "source": [
    "# classification report\n",
    "print(classification_report(Y_test, pred))"
   ]
  },
  {
   "cell_type": "code",
   "execution_count": 38,
   "metadata": {},
   "outputs": [
    {
     "data": {
      "image/png": "[encoded data removed]",
      "text/plain": [
       "<Figure size 432x288 with 2 Axes>"
      ]
     },
     "metadata": {},
     "output_type": "display_data"
    }
   ],
   "source": [
    "# Confusion matrix\n",
    "import seaborn as sns\n",
    "class_label = [\"negative\", \"positive\"]\n",
    "cm = confusion_matrix(Y_test, pred)\n",
    "cm_array = pd.DataFrame(cm, index = class_label, columns = class_label)\n",
    "sns.heatmap(cm_array, annot = True, fmt = \"d\")\n",
    "plt.title(\"Confusion Matrix\")\n",
    "plt.xlabel(\"Predicted Label\")\n",
    "plt.ylabel(\"True Label\")\n",
    "plt.show()"
   ]
  },
  {
   "cell_type": "code",
   "execution_count": 39,
   "metadata": {},
   "outputs": [
    {
     "name": "stdout",
     "output_type": "stream",
     "text": [
      "Top 25 features in positive reviews\n",
      "\n",
      "positive 66934.0 like\n",
      "positive 62434.0 tast\n",
      "positive 54152.0 good\n",
      "positive 52897.0 flavor\n",
      "positive 51595.0 love\n",
      "positive 50233.0 great\n",
      "positive 49609.0 use\n",
      "positive 46759.0 one\n",
      "positive 43424.0 product\n",
      "positive 41601.0 tri\n",
      "positive 40649.0 tea\n",
      "positive 38192.0 coffe\n",
      "positive 36264.0 make\n",
      "positive 34704.0 get\n",
      "positive 30942.0 food\n",
      "positive 26902.0 would\n",
      "positive 26721.0 time\n",
      "positive 25995.0 buy\n",
      "positive 25235.0 realli\n",
      "positive 24893.0 eat\n",
      "positive 23771.0 amazon\n",
      "positive 23562.0 price\n",
      "positive 23213.0 also\n",
      "positive 23022.0 much\n",
      "positive 23016.0 find\n",
      "-------------------------------------------------------------------------\n",
      "Top 25 features in negative reviews\n",
      "\n",
      "negative 16555.0 tast\n",
      "negative 15372.0 like\n",
      "negative 13449.0 product\n",
      "negative 9975.0 one\n",
      "negative 9381.0 flavor\n",
      "negative 8621.0 would\n",
      "negative 8525.0 tri\n",
      "negative 7263.0 use\n",
      "negative 7174.0 good\n",
      "negative 7026.0 coffe\n",
      "negative 6616.0 get\n",
      "negative 6558.0 buy\n",
      "negative 6204.0 food\n",
      "negative 6105.0 order\n",
      "negative 5654.0 dont\n",
      "negative 5618.0 tea\n",
      "negative 5257.0 even\n",
      "negative 5110.0 box\n",
      "negative 4756.0 amazon\n",
      "negative 4740.0 bag\n",
      "negative 4730.0 time\n",
      "negative 4660.0 make\n",
      "negative 4500.0 much\n",
      "negative 4479.0 eat\n",
      "negative 4446.0 realli\n"
     ]
    }
   ],
   "source": [
    "# Top 25 features\n",
    "find_imp_features(unigram_bow)"
   ]
  },
  {
   "cell_type": "markdown",
   "metadata": {},
   "source": [
    "#### Observations\n",
    "\n",
    "* Test Accuracy on unseen test data is 90% with optimal apha = 1\n",
    "* Precision, recall and f1 score are the best metrics when we have an imbalanced dataset which are high in our case.\n",
    "* So from the confusion matrix we can see that out of total negative points (11813) the model predicted 11204 and out of total positive points (63187) the model predicted 63796 \n",
    "* False positive rate (FPR) is 0.062 that means 6% negative labels are incorrectly classified as positive.\n",
    "                    "
   ]
  },
  {
   "cell_type": "markdown",
   "metadata": {},
   "source": [
    "### 6 TF-IDF"
   ]
  },
  {
   "cell_type": "code",
   "execution_count": 40,
   "metadata": {},
   "outputs": [
    {
     "name": "stdout",
     "output_type": "stream",
     "text": [
      "(175000,) (75000,)\n"
     ]
    },
    {
     "data": {
      "text/plain": [
       "pandas.core.series.Series"
      ]
     },
     "execution_count": 40,
     "metadata": {},
     "output_type": "execute_result"
    }
   ],
   "source": [
    "#Spltting the data into train and test\n",
    "X = final_data['CleanedText']\n",
    "Y = final_data['Score']\n",
    "\n",
    "X_train, X_test, Y_train, Y_test = train_test_split(X, Y, test_size = 0.3, random_state = 0)\n",
    "print(X_train.shape,X_test.shape)\n",
    "#print(X_train)\n",
    "type(X_train)"
   ]
  },
  {
   "cell_type": "code",
   "execution_count": 41,
   "metadata": {},
   "outputs": [
    {
     "data": {
      "text/plain": [
       "(175000, 1834546)"
      ]
     },
     "execution_count": 41,
     "metadata": {},
     "output_type": "execute_result"
    }
   ],
   "source": [
    "#Converting text to vector using TF-IDF vectorizer\n",
    "tfidf = TfidfVectorizer(ngram_range=(1,2))\n",
    "\n",
    "#Train vectorizer\n",
    "X_train = tfidf.fit_transform(X_train)\n",
    "X_train.shape"
   ]
  },
  {
   "cell_type": "code",
   "execution_count": 42,
   "metadata": {},
   "outputs": [
    {
     "data": {
      "text/plain": [
       "(75000, 1834546)"
      ]
     },
     "execution_count": 42,
     "metadata": {},
     "output_type": "execute_result"
    }
   ],
   "source": [
    "#Test Vectorizer\n",
    "X_test = tfidf.transform(X_test)\n",
    "X_test.shape"
   ]
  },
  {
   "cell_type": "code",
   "execution_count": 43,
   "metadata": {},
   "outputs": [
    {
     "name": "stdout",
     "output_type": "stream",
     "text": [
      "\n",
      "Best alpha is 0.001000.\n"
     ]
    },
    {
     "data": {
      "image/png": "[encoded data removed]",
      "text/plain": [
       "<Figure size 432x288 with 1 Axes>"
      ]
     },
     "metadata": {},
     "output_type": "display_data"
    }
   ],
   "source": [
    "# find optimal alpha\n",
    "optimal_alpha_tfidf = find_optimal_alpha(X_train, Y_train)"
   ]
  },
  {
   "cell_type": "code",
   "execution_count": 55,
   "metadata": {},
   "outputs": [
    {
     "name": "stdout",
     "output_type": "stream",
     "text": [
      "Train accuracy 0.9982971428571429\n",
      "\n",
      "Test accuracy for alpha = 0.001000 is 88.690667%\n"
     ]
    }
   ],
   "source": [
    "# Learning the model with optimal alpha\n",
    "mnb_optimal = MultinomialNB(alpha = optimal_alpha_tfidf)\n",
    "#fitting the model\n",
    "mnb_optimal.fit(X_train,Y_train)\n",
    "#predicting the output\n",
    "pred = mnb_optimal.predict(X_test)\n",
    "\n",
    "train_acc_tfidf = mnb_optimal.score(X_train, Y_train)\n",
    "print(\"Train accuracy\", train_acc_tfidf)\n",
    "\n",
    "acc_tfidf = accuracy_score(Y_test, pred) * 100\n",
    "print('\\nTest accuracy for alpha = %f is %f%%' % (optimal_alpha_tfidf, acc_tfidf))"
   ]
  },
  {
   "cell_type": "code",
   "execution_count": 45,
   "metadata": {},
   "outputs": [
    {
     "name": "stdout",
     "output_type": "stream",
     "text": [
      "             precision    recall  f1-score   support\n",
      "\n",
      "   negative       0.87      0.33      0.48     11813\n",
      "   positive       0.89      0.99      0.94     63187\n",
      "\n",
      "avg / total       0.88      0.89      0.86     75000\n",
      "\n"
     ]
    }
   ],
   "source": [
    "# classification report\n",
    "print(classification_report(Y_test, pred))"
   ]
  },
  {
   "cell_type": "code",
   "execution_count": 46,
   "metadata": {},
   "outputs": [
    {
     "data": {
      "image/png": "[encoded data removed]",
      "text/plain": [
       "<Figure size 432x288 with 2 Axes>"
      ]
     },
     "metadata": {},
     "output_type": "display_data"
    }
   ],
   "source": [
    "# confusion matrix\n",
    "\n",
    "class_label = [\"negative\", \"positive\"]\n",
    "cm = confusion_matrix(Y_test, pred)\n",
    "cm_array = pd.DataFrame(cm, index = class_label, columns = class_label)\n",
    "sns.heatmap(cm_array, annot = True, fmt = \"d\")\n",
    "plt.title(\"Confusion Matrix\")\n",
    "plt.xlabel(\"Predicted Label\")\n",
    "plt.ylabel(\"True Label\")\n",
    "plt.show()"
   ]
  },
  {
   "cell_type": "code",
   "execution_count": 47,
   "metadata": {},
   "outputs": [
    {
     "name": "stdout",
     "output_type": "stream",
     "text": [
      "Top 25 features in positive reviews\n",
      "\n",
      "positive 2085.38965601066 great\n",
      "positive 2070.4916283091884 love\n",
      "positive 1986.1658179677586 tast\n",
      "positive 1953.0182841309663 like\n",
      "positive 1949.784882679374 good\n",
      "positive 1892.2149314359558 tea\n",
      "positive 1842.826359974291 flavor\n",
      "positive 1825.231603591449 coffe\n",
      "positive 1654.2586806274328 use\n",
      "positive 1641.3513368422962 product\n",
      "positive 1507.2381394994302 one\n",
      "positive 1415.2472177531295 tri\n",
      "positive 1311.4323195349416 make\n",
      "positive 1233.9895515549526 get\n",
      "positive 1169.683444062326 food\n",
      "positive 1158.9004636147881 price\n",
      "positive 1152.445397503241 best\n",
      "positive 1149.2320397181434 buy\n",
      "positive 1079.758385837902 time\n",
      "positive 1075.1334115569412 order\n",
      "positive 1069.9978122399814 realli\n",
      "positive 1065.6067666576332 find\n",
      "positive 1054.0581097431527 amazon\n",
      "positive 1029.1814944207078 eat\n",
      "positive 1014.744925588432 dog\n",
      "-------------------------------------------------------------------------\n",
      "Top 25 features in negative reviews\n",
      "\n",
      "negative 510.6822066975504 tast\n",
      "negative 442.9812609333666 like\n",
      "negative 434.537040876734 product\n",
      "negative 316.0996091337387 would\n",
      "negative 306.6247055477329 flavor\n",
      "negative 306.15335922814825 coffe\n",
      "negative 304.68684591343106 one\n",
      "negative 272.14691023157525 tri\n",
      "negative 268.4037926491603 buy\n",
      "negative 262.99161414994165 order\n",
      "negative 240.59452781234788 tea\n",
      "negative 233.97402654082234 box\n",
      "negative 230.28144186965173 disappoint\n",
      "negative 226.13630983662642 dont\n",
      "negative 225.98039058835855 good\n",
      "negative 225.12297658038247 get\n",
      "negative 215.74503469546892 use\n",
      "negative 207.21182631307437 food\n",
      "negative 205.97282131446735 even\n",
      "negative 202.3127126606282 bag\n",
      "negative 193.42387779019373 bad\n",
      "negative 181.21016265109674 purchas\n",
      "negative 181.0784612191549 dog\n",
      "negative 180.5927105790822 look\n",
      "negative 180.18114370040897 packag\n"
     ]
    }
   ],
   "source": [
    "#Top 25 features\n",
    "find_imp_features(tfidf)"
   ]
  },
  {
   "cell_type": "markdown",
   "metadata": {},
   "source": [
    "#### Observations\n",
    "\n",
    "* Test Accuracy on unseen test data is 89% with optimal apha = 0.001\n",
    "* Precision, recall and f1 score are the best metrics when we have an imbalanced dataset.\n",
    "* From the confusion matrix we can say that out of total negative points (11813) the model predicted 4539 and out of total positive points (63187) the model predicted 70461\n",
    "* From above point we can say only 45% of negative points are predicted correctly.\n",
    "* False positive rate is 11% in tf-idf which means 11% points are miscalssified as positive points when they are actually negative.\n",
    "                    "
   ]
  },
  {
   "cell_type": "code",
   "execution_count": 56,
   "metadata": {},
   "outputs": [
    {
     "data": {
      "text/html": [
       "<div>\n",
       "<style scoped>\n",
       "    .dataframe tbody tr th:only-of-type {\n",
       "        vertical-align: middle;\n",
       "    }\n",
       "\n",
       "    .dataframe tbody tr th {\n",
       "        vertical-align: top;\n",
       "    }\n",
       "\n",
       "    .dataframe thead th {\n",
       "        text-align: right;\n",
       "    }\n",
       "</style>\n",
       "<table border=\"1\" class=\"dataframe\">\n",
       "  <thead>\n",
       "    <tr style=\"text-align: right;\">\n",
       "      <th></th>\n",
       "      <th>Model</th>\n",
       "      <th>Hyper Parameter(alpha)</th>\n",
       "      <th>Accuracy</th>\n",
       "    </tr>\n",
       "  </thead>\n",
       "  <tbody>\n",
       "    <tr>\n",
       "      <th>0</th>\n",
       "      <td>Bow</td>\n",
       "      <td>1.000</td>\n",
       "      <td>90.185333</td>\n",
       "    </tr>\n",
       "    <tr>\n",
       "      <th>1</th>\n",
       "      <td>TFIDF</td>\n",
       "      <td>0.001</td>\n",
       "      <td>88.690667</td>\n",
       "    </tr>\n",
       "  </tbody>\n",
       "</table>\n",
       "</div>"
      ],
      "text/plain": [
       "   Model  Hyper Parameter(alpha)   Accuracy\n",
       "0    Bow                   1.000  90.185333\n",
       "1  TFIDF                   0.001  88.690667"
      ]
     },
     "execution_count": 56,
     "metadata": {},
     "output_type": "execute_result"
    }
   ],
   "source": [
    "df = pd.DataFrame({'Model': ['Bow', \"TFIDF\"], 'Hyper Parameter(alpha)': [optimal_alpha_bow, optimal_alpha_tfidf], 'Accuracy': [acc_bow, acc_tfidf]}, columns = [\"Model\", \"Hyper Parameter(alpha)\", \"Accuracy\"])\n",
    "df"
   ]
  },
  {
   "cell_type": "markdown",
   "metadata": {},
   "source": [
    "### 9 Conclusion\n",
    "\n",
    "* When compared to BOW and tf-idf vectorisation techinques BOW performs well with accuracy of 90 and 88 respectively.\n",
    "* Also the FPR of tfidf is little high when compared to BOW.\n",
    "* Naive Bayes doesn't perform well on Word2Vec features as they are dependent, while Naive Bayes classifier assumes that the       presence of a particular feature in a class is unrelated to the presence of any other feature.\n",
    "* As train accuracy and test accuracy of BOW and TF-IDF are approximately same, so we can say our model performs well on unseen   data.\n",
    "* Naive Bayes is faster in its traning time than other algorithms like KNN."
   ]
  },
  {
   "cell_type": "code",
   "execution_count": null,
   "metadata": {},
   "outputs": [],
   "source": []
  }
 ],
 "metadata": {
  "kernelspec": {
   "display_name": "Python 3",
   "language": "python",
   "name": "python3"
  },
  "language_info": {
   "codemirror_mode": {
    "name": "ipython",
    "version": 3
   },
   "file_extension": ".py",
   "mimetype": "text/x-python",
   "name": "python",
   "nbconvert_exporter": "python",
   "pygments_lexer": "ipython3",
   "version": "3.6.5"
  }
 },
 "nbformat": 4,
 "nbformat_minor": 2
}
