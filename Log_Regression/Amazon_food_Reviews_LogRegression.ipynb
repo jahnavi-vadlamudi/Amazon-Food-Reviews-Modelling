{
 "cells": [
  {
   "cell_type": "markdown",
   "metadata": {},
   "source": [
    "## Logistic Regression on Amazon Fine Food Reviews"
   ]
  },
  {
   "cell_type": "markdown",
   "metadata": {},
   "source": [
    "### 1 Importing all necessary libraries"
   ]
  },
  {
   "cell_type": "code",
   "execution_count": 20,
   "metadata": {},
   "outputs": [],
   "source": [
    "import pandas as pd\n",
    "import numpy as np\n",
    "import matplotlib.pyplot as plt\n",
    "import sqlite3 \n",
    "import nltk\n",
    "import string\n",
    "import seaborn as sns\n",
    "from sklearn.feature_extraction.text import TfidfTransformer\n",
    "from sklearn.feature_extraction.text import TfidfVectorizer\n",
    "from sklearn.feature_extraction.text import CountVectorizer\n",
    "from sklearn.metrics import confusion_matrix\n",
    "from sklearn import metrics\n",
    "from gensim.models import Word2Vec\n",
    "from sklearn.metrics import accuracy_score\n",
    "import re\n",
    "from sklearn import preprocessing\n",
    "import warnings\n",
    "from sklearn.cross_validation import train_test_split\n",
    "from sklearn.model_selection import TimeSeriesSplit\n",
    "from sklearn.metrics import classification_report\n",
    "from sklearn.metrics import confusion_matrix\n",
    "from sklearn.preprocessing import StandardScaler\n",
    "from sklearn.model_selection import GridSearchCV,RandomizedSearchCV\n",
    "from sklearn.linear_model import LogisticRegression\n",
    "from prettytable import PrettyTable\n",
    "warnings.filterwarnings(\"ignore\")\n"
   ]
  },
  {
   "cell_type": "markdown",
   "metadata": {},
   "source": [
    "##### 2 Loading the cleaned data directly which is preprocessed and stored in final.sqlite"
   ]
  },
  {
   "cell_type": "code",
   "execution_count": 2,
   "metadata": {},
   "outputs": [
    {
     "data": {
      "text/plain": [
       "(364171, 12)"
      ]
     },
     "execution_count": 2,
     "metadata": {},
     "output_type": "execute_result"
    }
   ],
   "source": [
    "import sqlite3\n",
    "con = sqlite3.connect(\"final.sqlite\")\n",
    "cleaned_data = pd.read_sql_query(\"select * from Reviews\", con)\n",
    "cleaned_data.shape\n",
    "#cleaned_data.head()"
   ]
  },
  {
   "cell_type": "code",
   "execution_count": 3,
   "metadata": {},
   "outputs": [
    {
     "data": {
      "text/plain": [
       "positive    84337\n",
       "negative    15663\n",
       "Name: Score, dtype: int64"
      ]
     },
     "execution_count": 3,
     "metadata": {},
     "output_type": "execute_result"
    }
   ],
   "source": [
    "#Sampling 100k points\n",
    "\n",
    "final_data = cleaned_data.sample(n=100000)\n",
    "final_data.shape\n",
    "final_data['Score'].value_counts()"
   ]
  },
  {
   "cell_type": "code",
   "execution_count": 4,
   "metadata": {},
   "outputs": [],
   "source": [
    "# sorting the data based on time\n",
    "\n",
    "final_data['Time'] = pd.to_datetime(final_data['Time']).sort_values()\n",
    "#final_data.head()"
   ]
  },
  {
   "cell_type": "markdown",
   "metadata": {},
   "source": [
    "#### Function to find optimal C using GridSearchCV"
   ]
  },
  {
   "cell_type": "code",
   "execution_count": 16,
   "metadata": {},
   "outputs": [],
   "source": [
    "def find_optimal_C_grid(X_train,Y_train):\n",
    "   \n",
    "    tuned_parameters = {'C': [10**-4, 10**-2, 10**0, 10**2, 10**4],'penalty':['l1','l2']}\n",
    "    tscv = TimeSeriesSplit(n_splits=5)\n",
    "    model = GridSearchCV(LogisticRegression(), tuned_parameters, scoring = 'f1_micro',cv=tscv)\n",
    "    model.fit(X_train, Y_train)\n",
    "  \n",
    "    print(model.best_params_)\n",
    "    model_mean_scores = [result.mean_validation_score for result in model.grid_scores_]\n",
    "    MSE = [1 - x for x in model_mean_scores]\n",
    "    MSE_l1 = [MSE[x] for x in range(0,5)]\n",
    "    MSE_l2 = [MSE[x] for x in range(5,10)]\n",
    "    plt.plot([10**-4, 10**-2, 10**0, 10**2, 10**4], MSE_l1,'r-',label = 'L1')\n",
    "    plt.plot([10**-4, 10**-2, 10**0, 10**2, 10**4], MSE_l2,'b-',label ='L2')\n",
    "    plt.legend()\n",
    "    plt.xlabel('Optimal C')\n",
    "    plt.ylabel('CV Error')\n",
    "    plt.title('CV Error Vs C')\n",
    "    \n",
    "    #return optimal_lambda"
   ]
  },
  {
   "cell_type": "markdown",
   "metadata": {},
   "source": [
    "#### Function to find optimal C using RandomSearchCV"
   ]
  },
  {
   "cell_type": "code",
   "execution_count": 28,
   "metadata": {},
   "outputs": [],
   "source": [
    "def find_optimal_C_random(X_train,Y_train):\n",
    "   \n",
    "    tuned_parameters = {'C': [10**-4, 10**-2, 10**0, 10**2, 10**4],'penalty':['l1','l2']}\n",
    "    tscv = TimeSeriesSplit(n_splits=5)\n",
    "    model1 = RandomizedSearchCV(LogisticRegression(),tuned_parameters,scoring = 'f1_micro', cv=tscv)\n",
    "    model1.fit(X_train, Y_train)\n",
    "  \n",
    "    print(model1.best_params_)\n",
    "    \n",
    "    model1_mean_scores = [result.mean_validation_score for result in model1.grid_scores_]\n",
    "    MSE = [1 - x for x in model1_mean_scores]\n",
    "    MSE_l1 = [MSE[x] for x in range(0,5)]\n",
    "    MSE_l2 = [MSE[x] for x in range(5,10)]\n",
    "    plt.plot([10**-4, 10**-2, 10**0, 10**2, 10**4], MSE_l1,'r-',label = 'L1')\n",
    "    plt.plot([10**-4, 10**-2, 10**0, 10**2, 10**4], MSE_l2,'b-',label ='L2')\n",
    "    plt.legend()\n",
    "    plt.xlabel('Optimal C')\n",
    "    plt.ylabel('CV Error')\n",
    "    plt.title('CV Error Vs C')\n",
    "    \n",
    "    #return optimal_lambda"
   ]
  },
  {
   "cell_type": "markdown",
   "metadata": {},
   "source": [
    "#### Function to find the top 25 features"
   ]
  },
  {
   "cell_type": "code",
   "execution_count": 7,
   "metadata": {},
   "outputs": [],
   "source": [
    "def find_imp_features(vectorizer):\n",
    "    feature_names =vectorizer.get_feature_names()\n",
    "    coef_fnames = sorted(zip(clf.coef_[0], feature_names))\n",
    "    top_class_negative = coef_fnames[:25]\n",
    "    print(\"Top 25 negative\\n\\n\",top_class_negative)\n",
    "    print('-------------------------------------------')\n",
    "    top_class_positive = coef_fnames[-26:]\n",
    "    print(\"Top 25 positive\\n\\n\",top_class_positive)"
   ]
  },
  {
   "cell_type": "markdown",
   "metadata": {},
   "source": [
    "### 2 BOW"
   ]
  },
  {
   "cell_type": "code",
   "execution_count": 8,
   "metadata": {},
   "outputs": [
    {
     "name": "stdout",
     "output_type": "stream",
     "text": [
      "(70000,) (30000,)\n"
     ]
    },
    {
     "data": {
      "text/plain": [
       "pandas.core.series.Series"
      ]
     },
     "execution_count": 8,
     "metadata": {},
     "output_type": "execute_result"
    }
   ],
   "source": [
    "# Splitting the data into train and test\n",
    "X = final_data['CleanedText']\n",
    "Y = final_data['Score']\n",
    "\n",
    "X_train, X_test, Y_train, Y_test = train_test_split(X, Y, test_size = 0.3, random_state = 0)\n",
    "print(X_train.shape,X_test.shape)\n",
    "#print(X_train)\n",
    "type(X_train)"
   ]
  },
  {
   "cell_type": "code",
   "execution_count": 9,
   "metadata": {},
   "outputs": [
    {
     "name": "stdout",
     "output_type": "stream",
     "text": [
      "(70000, 32187) (30000, 32187)\n"
     ]
    }
   ],
   "source": [
    "# converting text to vector using Bag of Words\n",
    "unigram_bow = CountVectorizer()\n",
    "\n",
    "#Train vectorizer\n",
    "X_train = unigram_bow.fit_transform(X_train)\n",
    "scaler = preprocessing.StandardScaler(with_mean=False).fit(X_train)\n",
    "X_train = scaler.transform(X_train)  \n",
    "\n",
    "X_test = unigram_bow.transform(X_test)\n",
    "X_test = scaler.transform(X_test) \n",
    "\n",
    "print(X_train.shape,X_test.shape)\n"
   ]
  },
  {
   "cell_type": "markdown",
   "metadata": {},
   "source": [
    "#### GridSearch CV"
   ]
  },
  {
   "cell_type": "code",
   "execution_count": 17,
   "metadata": {},
   "outputs": [
    {
     "name": "stdout",
     "output_type": "stream",
     "text": [
      "{'C': 0.01, 'penalty': 'l1'}\n"
     ]
    },
    {
     "data": {
      "image/png": "[encoded data removed]",
      "text/plain": [
       "<Figure size 432x288 with 1 Axes>"
      ]
     },
     "metadata": {},
     "output_type": "display_data"
    }
   ],
   "source": [
    "# finding optimal alpha\n",
    "optimalc_bow_grid = find_optimal_C_grid(X_train, Y_train)"
   ]
  },
  {
   "cell_type": "code",
   "execution_count": 21,
   "metadata": {},
   "outputs": [
    {
     "name": "stdout",
     "output_type": "stream",
     "text": [
      "Train accuracy 93.88714285714286\n",
      "\n",
      "Test accuracy 91.14999999999999\n"
     ]
    }
   ],
   "source": [
    "# Learning the model with optimal alpha\n",
    "clf = LogisticRegression(C= 0.01, penalty = 'l1')\n",
    "# fitting the model\n",
    "clf.fit(X_train,Y_train)\n",
    "\n",
    "#Predicting the output\n",
    "pred = clf.predict(X_test)\n",
    "\n",
    "train_acc_bow = clf.score(X_train, Y_train)*100\n",
    "print(\"Train accuracy\", train_acc_bow)\n",
    "\n",
    "test_acc_bow = accuracy_score(Y_test, pred) * 100\n",
    "print(\"\\nTest accuracy\", test_acc_bow)"
   ]
  },
  {
   "cell_type": "code",
   "execution_count": 22,
   "metadata": {},
   "outputs": [
    {
     "name": "stdout",
     "output_type": "stream",
     "text": [
      "             precision    recall  f1-score   support\n",
      "\n",
      "   negative       0.82      0.55      0.66      4671\n",
      "   positive       0.92      0.98      0.95     25329\n",
      "\n",
      "avg / total       0.91      0.91      0.90     30000\n",
      "\n"
     ]
    },
    {
     "data": {
      "image/png": "[encoded data removed]",
      "text/plain": [
       "<Figure size 432x288 with 2 Axes>"
      ]
     },
     "metadata": {},
     "output_type": "display_data"
    }
   ],
   "source": [
    "# classification report\n",
    "print(classification_report(Y_test, pred))\n",
    "\n",
    "# Confusion matrix\n",
    "import seaborn as sns\n",
    "class_label = [\"negative\", \"positive\"]\n",
    "cm = confusion_matrix(Y_test, pred)\n",
    "cm_array = pd.DataFrame(cm, index = class_label, columns = class_label)\n",
    "sns.heatmap(cm_array, annot = True, fmt = \"d\")\n",
    "plt.title(\"Confusion Matrix\")\n",
    "plt.xlabel(\"Predicted Label\")\n",
    "plt.ylabel(\"True Label\")\n",
    "plt.show()"
   ]
  },
  {
   "cell_type": "markdown",
   "metadata": {},
   "source": [
    "#### RandomisedSearch CV"
   ]
  },
  {
   "cell_type": "code",
   "execution_count": 29,
   "metadata": {},
   "outputs": [
    {
     "name": "stdout",
     "output_type": "stream",
     "text": [
      "{'penalty': 'l1', 'C': 0.01}\n"
     ]
    },
    {
     "data": {
      "image/png": "[encoded data removed]",
      "text/plain": [
       "<Figure size 432x288 with 1 Axes>"
      ]
     },
     "metadata": {},
     "output_type": "display_data"
    }
   ],
   "source": [
    "# finding optimal alpha\n",
    "optimalc_bow_random = find_optimal_C_random(X_train, Y_train)"
   ]
  },
  {
   "cell_type": "code",
   "execution_count": 30,
   "metadata": {},
   "outputs": [
    {
     "name": "stdout",
     "output_type": "stream",
     "text": [
      "Train accuracy 93.88714285714286\n",
      "\n",
      "Test accuracy 91.13666666666667\n"
     ]
    }
   ],
   "source": [
    "# Learning the model with optimal alpha\n",
    "clf = LogisticRegression(C= 0.01, penalty = 'l1')\n",
    "# fitting the model\n",
    "clf.fit(X_train,Y_train)\n",
    "\n",
    "#Predicting the output\n",
    "pred = clf.predict(X_test)\n",
    "\n",
    "train_acc_bow_random = clf.score(X_train, Y_train)*100\n",
    "print(\"Train accuracy\", train_acc_bow_random)\n",
    "\n",
    "test_acc_bow_random = accuracy_score(Y_test, pred) * 100\n",
    "print(\"\\nTest accuracy\", test_acc_bow_random)"
   ]
  },
  {
   "cell_type": "code",
   "execution_count": 31,
   "metadata": {},
   "outputs": [
    {
     "name": "stdout",
     "output_type": "stream",
     "text": [
      "             precision    recall  f1-score   support\n",
      "\n",
      "   negative       0.82      0.55      0.66      4671\n",
      "   positive       0.92      0.98      0.95     25329\n",
      "\n",
      "avg / total       0.91      0.91      0.90     30000\n",
      "\n"
     ]
    },
    {
     "data": {
      "image/png": "[encoded data removed]",
      "text/plain": [
       "<Figure size 432x288 with 2 Axes>"
      ]
     },
     "metadata": {},
     "output_type": "display_data"
    }
   ],
   "source": [
    "# classification report\n",
    "print(classification_report(Y_test, pred))\n",
    "# Confusion matrix\n",
    "import seaborn as sns\n",
    "class_label = [\"negative\", \"positive\"]\n",
    "cm = confusion_matrix(Y_test, pred)\n",
    "cm_array = pd.DataFrame(cm, index = class_label, columns = class_label)\n",
    "sns.heatmap(cm_array, annot = True, fmt = \"d\")\n",
    "plt.title(\"Confusion Matrix\")\n",
    "plt.xlabel(\"Predicted Label\")\n",
    "plt.ylabel(\"True Label\")\n",
    "plt.show()"
   ]
  },
  {
   "cell_type": "markdown",
   "metadata": {},
   "source": [
    "##### Relation between sparsity and lambda"
   ]
  },
  {
   "cell_type": "code",
   "execution_count": 26,
   "metadata": {},
   "outputs": [
    {
     "name": "stdout",
     "output_type": "stream",
     "text": [
      "22609\n"
     ]
    }
   ],
   "source": [
    "clf = LogisticRegression(C=10000, penalty='l1')\n",
    "clf.fit(X_train, Y_train)\n",
    "w = clf.coef_\n",
    "print(np.count_nonzero(w))"
   ]
  },
  {
   "cell_type": "code",
   "execution_count": 27,
   "metadata": {},
   "outputs": [
    {
     "name": "stdout",
     "output_type": "stream",
     "text": [
      "19659\n"
     ]
    }
   ],
   "source": [
    "clf = LogisticRegression(C=1000, penalty='l1')\n",
    "clf.fit(X_train, Y_train)\n",
    "w = clf.coef_\n",
    "print(np.count_nonzero(w))"
   ]
  },
  {
   "cell_type": "code",
   "execution_count": 28,
   "metadata": {},
   "outputs": [
    {
     "name": "stdout",
     "output_type": "stream",
     "text": [
      "17856\n"
     ]
    }
   ],
   "source": [
    "clf = LogisticRegression(C=100, penalty='l1')\n",
    "clf.fit(X_train, Y_train)\n",
    "w = clf.coef_\n",
    "print(np.count_nonzero(w))"
   ]
  },
  {
   "cell_type": "code",
   "execution_count": 29,
   "metadata": {},
   "outputs": [
    {
     "name": "stdout",
     "output_type": "stream",
     "text": [
      "15326\n"
     ]
    }
   ],
   "source": [
    "clf = LogisticRegression(C=10, penalty='l1')\n",
    "clf.fit(X_train, Y_train)\n",
    "w = clf.coef_\n",
    "print(np.count_nonzero(w))"
   ]
  },
  {
   "cell_type": "code",
   "execution_count": 30,
   "metadata": {},
   "outputs": [
    {
     "name": "stdout",
     "output_type": "stream",
     "text": [
      "11045\n"
     ]
    }
   ],
   "source": [
    "clf = LogisticRegression(C=0.1, penalty='l1')\n",
    "clf.fit(X_train, Y_train)\n",
    "w = clf.coef_\n",
    "print(np.count_nonzero(w))"
   ]
  },
  {
   "cell_type": "code",
   "execution_count": 31,
   "metadata": {},
   "outputs": [
    {
     "name": "stdout",
     "output_type": "stream",
     "text": [
      "82\n"
     ]
    }
   ],
   "source": [
    "clf = LogisticRegression(C=0.001, penalty='l1')\n",
    "clf.fit(X_train, Y_train)\n",
    "w = clf.coef_\n",
    "print(np.count_nonzero(w))"
   ]
  },
  {
   "cell_type": "markdown",
   "metadata": {},
   "source": [
    "We can observe that as lambda increases/C decreases sparsity increases"
   ]
  },
  {
   "cell_type": "markdown",
   "metadata": {},
   "source": [
    "#### Multicollinearity"
   ]
  },
  {
   "cell_type": "code",
   "execution_count": 32,
   "metadata": {},
   "outputs": [
    {
     "name": "stdout",
     "output_type": "stream",
     "text": [
      "Weights before adding noise\n",
      "\n",
      "[-5.88980389e-09  2.56795089e-03  1.66439876e-05 -3.87059649e-09\n",
      " -4.14008488e-09  9.78117277e-09  7.08547457e-04 -1.96206575e-08\n",
      " -1.87815762e-02  1.00584262e-05 -1.18516763e-08  2.07870203e-06\n",
      "  1.63697625e-03  1.06293494e-02  1.86641117e-02  7.36362033e-06\n",
      " -3.65340652e-08  6.87746343e-05  3.85218206e-03  8.16988690e-03\n",
      "  3.38997709e-03  9.25795148e-04  7.76810936e-02 -1.13188021e-02\n",
      " -5.12184740e-03  1.54192881e-06  5.95631722e-03  6.17641604e-03\n",
      " -1.54043548e-03  4.09511548e-04]\n",
      "32376\n"
     ]
    }
   ],
   "source": [
    "clf = LogisticRegression(C=0.01, penalty='l2')\n",
    "clf.fit(X_train, Y_train)\n",
    "coef = clf.coef_[0]\n",
    "print(\"Weights before adding noise\\n\")\n",
    "print(coef[:30])\n",
    "print(len(coef))"
   ]
  },
  {
   "cell_type": "code",
   "execution_count": 33,
   "metadata": {},
   "outputs": [
    {
     "name": "stdout",
     "output_type": "stream",
     "text": [
      "(70000, 32376)\n"
     ]
    }
   ],
   "source": [
    "X_train1 = X_train\n",
    "noise = np.random.normal(0,0.01) \n",
    "X_train1.data = X_train1.data + noise\n",
    "print(X_train1.shape)"
   ]
  },
  {
   "cell_type": "code",
   "execution_count": 34,
   "metadata": {},
   "outputs": [
    {
     "name": "stdout",
     "output_type": "stream",
     "text": [
      "Weights after adding noise\n",
      "\n",
      "[-8.87801446e-11  2.56948768e-03  1.66278755e-05 -1.25828961e-11\n",
      " -1.61857587e-12  3.29441561e-08  7.06449063e-04 -5.52448758e-11\n",
      " -1.87863759e-02  1.00324503e-05 -1.00060634e-10  2.60051219e-06\n",
      "  1.63788052e-03  1.06289074e-02  1.86486587e-02  7.34242992e-06\n",
      " -1.19158273e-09  6.90928846e-05  3.85014387e-03  8.17234690e-03\n",
      "  3.39236761e-03  9.22811484e-04  7.76734607e-02 -1.13138590e-02\n",
      " -5.12021374e-03  1.55352705e-06  5.95360016e-03  6.17430460e-03\n",
      " -1.53963561e-03  4.08716144e-04]\n",
      "32376\n"
     ]
    }
   ],
   "source": [
    "clf = LogisticRegression(C=0.01, penalty='l2')\n",
    "clf.fit(X_train1, Y_train)\n",
    "coef_withNoise = clf.coef_[0]\n",
    "print(\"Weights after adding noise\\n\")\n",
    "print(coef_withNoise[:30])\n",
    "print(len(coef_withNoise))"
   ]
  },
  {
   "cell_type": "code",
   "execution_count": 35,
   "metadata": {},
   "outputs": [
    {
     "name": "stdout",
     "output_type": "stream",
     "text": [
      "[-9.84926468e+01  5.98448112e-02  9.68043665e-02 -9.96749107e+01\n",
      " -9.99609048e+01  2.36811923e+02  2.96154290e-01 -9.97184351e+01\n",
      " -2.55551421e-02  2.58249196e-01 -9.91557259e+01  2.51026916e+01\n",
      "  5.52407875e-02  4.15806509e-03  8.27951376e-02  2.87771713e-01\n",
      " -9.67384338e+01  4.62743672e-01  5.29099816e-02  3.01106036e-02\n",
      "  7.05173656e-02  3.22281288e-01  9.82603031e-03 -4.36720955e-02\n",
      " -3.18958630e-02  7.52190205e-01  4.56164151e-02  3.41855816e-02\n",
      " -5.19247850e-02  1.94232394e-01]\n"
     ]
    },
    {
     "data": {
      "text/plain": [
       "numpy.ndarray"
      ]
     },
     "execution_count": 35,
     "metadata": {},
     "output_type": "execute_result"
    }
   ],
   "source": [
    "Weights_diff = (abs(coef-coef_withNoise)/coef) * 100\n",
    "print(Weights_diff[:30])\n",
    "type(Weights_diff)"
   ]
  },
  {
   "cell_type": "code",
   "execution_count": 37,
   "metadata": {},
   "outputs": [
    {
     "name": "stdout",
     "output_type": "stream",
     "text": [
      "517\n"
     ]
    }
   ],
   "source": [
    "new_list = []\n",
    "new_list = list(filter(lambda x: x > 30, Weights_diff))\n",
    "print(len(new_list))"
   ]
  },
  {
   "cell_type": "markdown",
   "metadata": {},
   "source": [
    "* There is a significant change in weights after adding the noise.\n",
    "* 517 features have their weight changees more than 30%. So, we can say that features are multicollinear.\n",
    "* Hence we cannot use weights as feature importance values."
   ]
  },
  {
   "cell_type": "code",
   "execution_count": 38,
   "metadata": {},
   "outputs": [
    {
     "name": "stdout",
     "output_type": "stream",
     "text": [
      "Top 25 negative\n",
      "\n",
      " [(-0.40943733358460477, 'disappoint'), (-0.30707483873401875, 'worst'), (-0.25294628943302333, 'terribl'), (-0.24242367513610427, 'tast'), (-0.2415649151003079, 'horribl'), (-0.23153855208944224, 'aw'), (-0.22699315334686362, 'money'), (-0.22203283960225587, 'bland'), (-0.21621348257236658, 'would'), (-0.2064371908348509, 'bad'), (-0.20586723442112753, 'return'), (-0.20509398762176065, 'unfortun'), (-0.2041791014441732, 'wast'), (-0.19839937627818477, 'bitter'), (-0.19799432798509253, 'wouldnt'), (-0.19514074893556513, 'stale'), (-0.18865065694985164, 'mayb'), (-0.18553393336995494, 'thought'), (-0.18524229486246, 'cancel'), (-0.18210642081341402, 'threw'), (-0.1813574926374545, 'hope'), (-0.18018289114284636, 'stick'), (-0.17857722922564698, 'china'), (-0.17273237573203595, 'rip'), (-0.17219329183628013, 'yuck')]\n",
      "-------------------------------------------\n",
      "Top 25 positive\n",
      "\n",
      " [(0.22674166919933333, 'complaint'), (0.2312976285448485, 'find'), (0.233673088120403, 'smooth'), (0.238415302714106, 'fast'), (0.23950895082971804, 'keep'), (0.24005787034176537, 'beat'), (0.2405281925768915, 'wonder'), (0.24829453204814655, 'thank'), (0.24875809939556467, 'satisfi'), (0.2519512896301466, 'happi'), (0.2540674318886127, 'enjoy'), (0.2623855966460786, 'addict'), (0.2625968365988982, 'yummi'), (0.2924816820811473, 'awesom'), (0.30242398706755713, 'well'), (0.31584253131911005, 'tasti'), (0.33956067018134956, 'amaz'), (0.3610405932216598, 'nice'), (0.37621628442290045, 'favorit'), (0.4471148331934583, 'excel'), (0.4767260111265943, 'perfect'), (0.5006592780457326, 'delici'), (0.5187398826956983, 'good'), (0.6604615064878582, 'love'), (0.6659063331217063, 'best'), (0.8666698607783011, 'great')]\n"
     ]
    }
   ],
   "source": [
    "find_imp_features(unigram_bow)"
   ]
  },
  {
   "cell_type": "markdown",
   "metadata": {},
   "source": [
    "### 2 TF-IDF"
   ]
  },
  {
   "cell_type": "code",
   "execution_count": 32,
   "metadata": {},
   "outputs": [
    {
     "name": "stdout",
     "output_type": "stream",
     "text": [
      "(70000,) (30000,)\n"
     ]
    },
    {
     "data": {
      "text/plain": [
       "pandas.core.series.Series"
      ]
     },
     "execution_count": 32,
     "metadata": {},
     "output_type": "execute_result"
    }
   ],
   "source": [
    "#Spltting the data into train and test\n",
    "X = final_data['CleanedText']\n",
    "Y = final_data['Score']\n",
    "\n",
    "X_train, X_test, Y_train, Y_test = train_test_split(X, Y, test_size = 0.3, random_state = 0)\n",
    "print(X_train.shape,X_test.shape)\n",
    "#print(X_train)\n",
    "type(X_train)"
   ]
  },
  {
   "cell_type": "code",
   "execution_count": 33,
   "metadata": {},
   "outputs": [
    {
     "name": "stdout",
     "output_type": "stream",
     "text": [
      "(70000, 987715) (30000, 987715)\n"
     ]
    }
   ],
   "source": [
    "#Converting text to vector using TF-IDF vectorizer\n",
    "tfidf = TfidfVectorizer(ngram_range=(1,2))\n",
    "#Train vectorizer\n",
    "X_train = tfidf.fit_transform(X_train)\n",
    "X_test = tfidf.transform(X_test)\n",
    "print(X_train.shape,X_test.shape)"
   ]
  },
  {
   "cell_type": "code",
   "execution_count": 34,
   "metadata": {},
   "outputs": [
    {
     "name": "stdout",
     "output_type": "stream",
     "text": [
      "{'C': 10000, 'penalty': 'l2'}\n"
     ]
    },
    {
     "data": {
      "image/png": "[encoded data removed]",
      "text/plain": [
       "<Figure size 432x288 with 1 Axes>"
      ]
     },
     "metadata": {},
     "output_type": "display_data"
    }
   ],
   "source": [
    "# finding optimal alpha\n",
    "optimalc_tfidf_grid = find_optimal_C_grid(X_train, Y_train)"
   ]
  },
  {
   "cell_type": "code",
   "execution_count": 35,
   "metadata": {},
   "outputs": [
    {
     "name": "stdout",
     "output_type": "stream",
     "text": [
      "Train accuracy 100.0\n",
      "\n",
      "Test accuracy 92.30000000000001\n"
     ]
    }
   ],
   "source": [
    "# Learning the model with optimal alpha\n",
    "clf = LogisticRegression(C= 10000, penalty = 'l1')\n",
    "# fitting the model\n",
    "clf.fit(X_train,Y_train)\n",
    "\n",
    "#Predicting the output\n",
    "pred = clf.predict(X_test)\n",
    "\n",
    "train_acc_tfidf = clf.score(X_train, Y_train)*100\n",
    "print(\"Train accuracy\", train_acc_tfidf)\n",
    "\n",
    "test_acc_tfidf = accuracy_score(Y_test, pred) * 100\n",
    "print(\"\\nTest accuracy\", test_acc_tfidf)"
   ]
  },
  {
   "cell_type": "code",
   "execution_count": 36,
   "metadata": {},
   "outputs": [
    {
     "name": "stdout",
     "output_type": "stream",
     "text": [
      "             precision    recall  f1-score   support\n",
      "\n",
      "   negative       0.82      0.65      0.72      4671\n",
      "   positive       0.94      0.97      0.96     25329\n",
      "\n",
      "avg / total       0.92      0.92      0.92     30000\n",
      "\n"
     ]
    },
    {
     "data": {
      "image/png": "[encoded data removed]",
      "text/plain": [
       "<Figure size 432x288 with 2 Axes>"
      ]
     },
     "metadata": {},
     "output_type": "display_data"
    }
   ],
   "source": [
    "# classification report\n",
    "print(classification_report(Y_test, pred))\n",
    "\n",
    "# confusion matrix\n",
    "class_label = [\"negative\", \"positive\"]\n",
    "cm = confusion_matrix(Y_test, pred)\n",
    "cm_array = pd.DataFrame(cm, index = class_label, columns = class_label)\n",
    "sns.heatmap(cm_array, annot = True, fmt = \"d\")\n",
    "plt.title(\"Confusion Matrix\")\n",
    "plt.xlabel(\"Predicted Label\")\n",
    "plt.ylabel(\"True Label\")\n",
    "plt.show()"
   ]
  },
  {
   "cell_type": "markdown",
   "metadata": {},
   "source": [
    "#### RandomizedSearch CV"
   ]
  },
  {
   "cell_type": "code",
   "execution_count": 37,
   "metadata": {},
   "outputs": [
    {
     "name": "stdout",
     "output_type": "stream",
     "text": [
      "{'penalty': 'l2', 'C': 10000}\n"
     ]
    },
    {
     "data": {
      "image/png": "[encoded data removed]",
      "text/plain": [
       "<Figure size 432x288 with 1 Axes>"
      ]
     },
     "metadata": {},
     "output_type": "display_data"
    }
   ],
   "source": [
    "# finding optimal alpha\n",
    "optimalc_tfidf_random = find_optimal_C_random(X_train, Y_train)"
   ]
  },
  {
   "cell_type": "code",
   "execution_count": 38,
   "metadata": {},
   "outputs": [
    {
     "name": "stdout",
     "output_type": "stream",
     "text": [
      "Train accuracy 100.0\n",
      "\n",
      "Test accuracy 93.31333333333333\n"
     ]
    }
   ],
   "source": [
    "# Learning the model with optimal alpha\n",
    "clf = LogisticRegression(C= 10000, penalty = 'l2')\n",
    "# fitting the model\n",
    "clf.fit(X_train,Y_train)\n",
    "\n",
    "#Predicting the output\n",
    "pred = clf.predict(X_test)\n",
    "\n",
    "train_acc_tfidf = clf.score(X_train, Y_train)*100\n",
    "print(\"Train accuracy\", train_acc_tfidf)\n",
    "\n",
    "test_acc_tfidf = accuracy_score(Y_test, pred) * 100\n",
    "print(\"\\nTest accuracy\", test_acc_tfidf)"
   ]
  },
  {
   "cell_type": "code",
   "execution_count": 39,
   "metadata": {},
   "outputs": [
    {
     "name": "stdout",
     "output_type": "stream",
     "text": [
      "             precision    recall  f1-score   support\n",
      "\n",
      "   negative       0.85      0.69      0.76      4671\n",
      "   positive       0.95      0.98      0.96     25329\n",
      "\n",
      "avg / total       0.93      0.93      0.93     30000\n",
      "\n"
     ]
    },
    {
     "data": {
      "image/png": "[encoded data removed]",
      "text/plain": [
       "<Figure size 432x288 with 2 Axes>"
      ]
     },
     "metadata": {},
     "output_type": "display_data"
    }
   ],
   "source": [
    "# classification report\n",
    "print(classification_report(Y_test, pred))\n",
    "\n",
    "# confusion matrix\n",
    "class_label = [\"negative\", \"positive\"]\n",
    "cm = confusion_matrix(Y_test, pred)\n",
    "cm_array = pd.DataFrame(cm, index = class_label, columns = class_label)\n",
    "sns.heatmap(cm_array, annot = True, fmt = \"d\")\n",
    "plt.title(\"Confusion Matrix\")\n",
    "plt.xlabel(\"Predicted Label\")\n",
    "plt.ylabel(\"True Label\")\n",
    "plt.show()"
   ]
  },
  {
   "cell_type": "markdown",
   "metadata": {},
   "source": [
    "##### Relation between sparisity and lambda"
   ]
  },
  {
   "cell_type": "code",
   "execution_count": 46,
   "metadata": {},
   "outputs": [
    {
     "name": "stdout",
     "output_type": "stream",
     "text": [
      "43750\n"
     ]
    }
   ],
   "source": [
    "clf = LogisticRegression(C=10000, penalty='l1')\n",
    "clf.fit(X_train, Y_train)\n",
    "w = clf.coef_\n",
    "print(np.count_nonzero(w))"
   ]
  },
  {
   "cell_type": "code",
   "execution_count": 47,
   "metadata": {},
   "outputs": [
    {
     "name": "stdout",
     "output_type": "stream",
     "text": [
      "20188\n"
     ]
    }
   ],
   "source": [
    "clf = LogisticRegression(C=1000, penalty='l1')\n",
    "clf.fit(X_train, Y_train)\n",
    "w = clf.coef_\n",
    "print(np.count_nonzero(w))"
   ]
  },
  {
   "cell_type": "code",
   "execution_count": 48,
   "metadata": {},
   "outputs": [
    {
     "name": "stdout",
     "output_type": "stream",
     "text": [
      "15240\n"
     ]
    }
   ],
   "source": [
    "clf = LogisticRegression(C=100, penalty='l1')\n",
    "clf.fit(X_train, Y_train)\n",
    "w = clf.coef_\n",
    "print(np.count_nonzero(w))"
   ]
  },
  {
   "cell_type": "code",
   "execution_count": 49,
   "metadata": {},
   "outputs": [
    {
     "name": "stdout",
     "output_type": "stream",
     "text": [
      "10741\n"
     ]
    }
   ],
   "source": [
    "clf = LogisticRegression(C=10, penalty='l1')\n",
    "clf.fit(X_train, Y_train)\n",
    "w = clf.coef_\n",
    "print(np.count_nonzero(w))"
   ]
  },
  {
   "cell_type": "code",
   "execution_count": 50,
   "metadata": {},
   "outputs": [
    {
     "name": "stdout",
     "output_type": "stream",
     "text": [
      "103\n"
     ]
    }
   ],
   "source": [
    "clf = LogisticRegression(C=0.1, penalty='l1')\n",
    "clf.fit(X_train, Y_train)\n",
    "w = clf.coef_\n",
    "print(np.count_nonzero(w))"
   ]
  },
  {
   "cell_type": "markdown",
   "metadata": {},
   "source": [
    "##### Checking Multicollinearity using Pertubation test"
   ]
  },
  {
   "cell_type": "code",
   "execution_count": 52,
   "metadata": {},
   "outputs": [
    {
     "name": "stdout",
     "output_type": "stream",
     "text": [
      "Weights before adding noise\n",
      "\n",
      "[ 2.72033992e-03  2.72033992e-03  2.31770794e-01  7.06530287e-02\n",
      "  6.40537844e-03 -1.92906252e-01 -1.92906252e-01  1.80150581e-02\n",
      "  1.80150581e-02  3.72383406e-02  3.72383406e-02  2.47436258e-02\n",
      "  4.99370495e-03  2.06572270e-02  1.70214475e-02  1.70214475e-02\n",
      " -3.62643725e+00 -7.45538748e-01 -3.01387373e+00  3.60420701e-02\n",
      "  3.60420701e-02  9.08253720e-03  9.08253720e-03  2.25388794e-01\n",
      "  1.46134339e-02  1.50233453e-01  1.46134339e-02  5.72190583e-02\n",
      "  8.29081693e-03  4.88204679e-01]\n",
      "994209\n"
     ]
    }
   ],
   "source": [
    "clf = LogisticRegression(C=10000, penalty='l2')\n",
    "clf.fit(X_train, Y_train)\n",
    "coef = clf.coef_[0]\n",
    "print(\"Weights before adding noise\\n\")\n",
    "print(coef[:30])\n",
    "print(len(coef))"
   ]
  },
  {
   "cell_type": "code",
   "execution_count": 53,
   "metadata": {},
   "outputs": [],
   "source": [
    "X_train1 = X_train\n",
    "noise = np.random.normal(0,0.01) \n",
    "X_train1.data = X_train1.data + noise\n"
   ]
  },
  {
   "cell_type": "code",
   "execution_count": 54,
   "metadata": {},
   "outputs": [
    {
     "name": "stdout",
     "output_type": "stream",
     "text": [
      "Weights after adding noise\n",
      "\n",
      "[ 2.96665171e-05  2.96665171e-05  6.43572610e-04  3.52418281e-04\n",
      "  2.85393751e-04 -2.35511656e-04 -2.35511656e-04  1.29183151e-04\n",
      "  1.29183151e-04  1.41441505e-04  1.41441505e-04  4.62516987e-04\n",
      "  1.22012800e-04  3.58135327e-04  1.14661822e-04  1.14661822e-04\n",
      " -3.61282748e-03 -8.59983552e-04 -2.88920094e-03  2.15473836e-04\n",
      "  2.15473836e-04  5.99554393e-05  5.99554393e-05  5.48635438e-04\n",
      "  6.33779640e-05  1.49850603e-04  6.33779640e-05  2.19126919e-04\n",
      "  9.40524010e-05  2.10372108e-04]\n",
      "994209\n"
     ]
    }
   ],
   "source": [
    "clf = LogisticRegression(C=0.01, penalty='l2')\n",
    "clf.fit(X_train1, Y_train)\n",
    "coef_withNoise = clf.coef_[0]\n",
    "print(\"Weights after adding noise\\n\")\n",
    "print(coef_withNoise[:30])\n",
    "print(len(coef))"
   ]
  },
  {
   "cell_type": "code",
   "execution_count": 55,
   "metadata": {},
   "outputs": [
    {
     "name": "stdout",
     "output_type": "stream",
     "text": [
      "[ 98.90945551  98.90945551  99.72232368  99.50119862  95.54446699\n",
      " -99.87791393 -99.87791393  99.28291571  99.28291571  99.62017237\n",
      "  99.62017237  98.13076308  97.55666781  98.26629525  99.32636856\n",
      "  99.32636856 -99.90037529 -99.88464938 -99.90413663  99.40216021\n",
      "  99.40216021  99.33988226  99.33988226  99.75658265  99.56630341\n",
      "  99.90025484  99.56630341  99.61703858  98.86558343  99.95690903]\n"
     ]
    },
    {
     "data": {
      "text/plain": [
       "numpy.ndarray"
      ]
     },
     "execution_count": 55,
     "metadata": {},
     "output_type": "execute_result"
    }
   ],
   "source": [
    "Weights_diff = (abs(coef_withNoise-coef)/coef) * 100\n",
    "print(Weights_diff[:30])\n",
    "type(Weights_diff)"
   ]
  },
  {
   "cell_type": "code",
   "execution_count": 56,
   "metadata": {},
   "outputs": [
    {
     "name": "stdout",
     "output_type": "stream",
     "text": [
      "767263\n"
     ]
    }
   ],
   "source": [
    "new_list = list(filter(lambda x: x > 30, Weights_diff))\n",
    "print(len(new_list))"
   ]
  },
  {
   "cell_type": "markdown",
   "metadata": {},
   "source": [
    "* There is more significant change in weights after adding the noise.\n",
    "* Almost 767263 features have their weight changees more than 30%. So, we can say that features are multicollinear.\n",
    "* Hence we cannot use weights as feature importance values."
   ]
  },
  {
   "cell_type": "markdown",
   "metadata": {},
   "source": [
    "##### Feature Importance"
   ]
  },
  {
   "cell_type": "code",
   "execution_count": 57,
   "metadata": {},
   "outputs": [
    {
     "name": "stdout",
     "output_type": "stream",
     "text": [
      "Top 25 negative\n",
      "\n",
      " [(-0.1283377426996606, 'harmon'), (-0.08832227280220592, 'youll'), (-0.08619639453585025, 'frazier'), (-0.06752412315431477, 'nosey'), (-0.04490843924946127, 'cellulit'), (-0.03881396434537818, 'jax'), (-0.03131463511263602, 'gastrointestin'), (-0.02909322296732971, 'audio'), (-0.0278275760593845, 'bold'), (-0.025759852930245065, 'whoola'), (-0.02569453304075894, 'yumni'), (-0.020628259134493575, 'apon'), (-0.01977882705216838, 'portillo'), (-0.018338933823592144, 'teriaki'), (-0.01811376515236672, 'amora'), (-0.017615125324238156, 'kum'), (-0.01738621633177213, 'yagoozon'), (-0.016748157075094722, 'muriel'), (-0.01647659418933457, 'kimchi'), (-0.01629235958123689, 'substant'), (-0.016056515139603333, 'beetl'), (-0.015677082806967495, 'suprem'), (-0.01549313021470785, 'ambianc'), (-0.014673286227488215, 'juiciest'), (-0.014607712115441108, 'merril')]\n",
      "-------------------------------------------\n",
      "Top 25 positive\n",
      "\n",
      " [(0.02803768440319321, 'coke'), (0.031398546209809024, 'delia'), (0.03300326262880294, 'undisclos'), (0.03335193465836515, 'telephon'), (0.03447845216758611, 'ammount'), (0.03535858177000405, 'pure'), (0.035432395940301134, 'resaur'), (0.03719856018483174, 'goodnessthey'), (0.037696775732052795, 'driedpea'), (0.03828097584008259, 'superhot'), (0.038542814966992765, 'purg'), (0.039446466334206544, 'quirt'), (0.04334193314306573, 'mewl'), (0.04616461274585714, 'aeroshot'), (0.04711560225508445, 'haccp'), (0.047332226939111946, 'natropath'), (0.051307476785345245, 'subltl'), (0.05273722029745948, 'rhode'), (0.06483306048604577, 'amazinggg'), (0.07088970602999653, 'anhui'), (0.07785688353396117, 'addic'), (0.1043359332349278, 'discret'), (0.13273625287707783, 'potlock'), (0.16153357090278428, 'spiciest'), (0.18871992981272603, 'shiseido'), (0.2087547437177931, 'cu')]\n"
     ]
    }
   ],
   "source": [
    "find_imp_features(tfidf)"
   ]
  },
  {
   "cell_type": "markdown",
   "metadata": {},
   "source": [
    "### 3 Word2Vec"
   ]
  },
  {
   "cell_type": "code",
   "execution_count": 40,
   "metadata": {},
   "outputs": [
    {
     "name": "stdout",
     "output_type": "stream",
     "text": [
      "(70000,) (30000,)\n"
     ]
    }
   ],
   "source": [
    "X = final_data['CleanedText']\n",
    "Y = final_data['Score']\n",
    "\n",
    "X_train, X_test, Y_train, Y_test = train_test_split(X, Y, test_size = 0.3, random_state = 0)\n",
    "print(X_train.shape,X_test.shape)\n",
    "#print(X_train)"
   ]
  },
  {
   "cell_type": "code",
   "execution_count": 41,
   "metadata": {},
   "outputs": [
    {
     "data": {
      "text/plain": [
       "(10867,)"
      ]
     },
     "execution_count": 41,
     "metadata": {},
     "output_type": "execute_result"
    }
   ],
   "source": [
    "from gensim.models import Word2Vec\n",
    "i=0\n",
    "\n",
    "list_of_sent=[]\n",
    "for sent in X_train:\n",
    "    list_of_sent.append(sent.split())\n",
    "    \n",
    "w2v_model=Word2Vec(list_of_sent,min_count=5,size=50, workers=4)\n",
    "w2v_words = list(w2v_model.wv.vocab)\n",
    "w2v_words = np.array(w2v_words)\n",
    "w2v_words.shape\n"
   ]
  },
  {
   "cell_type": "code",
   "execution_count": 42,
   "metadata": {},
   "outputs": [
    {
     "data": {
      "text/plain": [
       "(7515,)"
      ]
     },
     "execution_count": 42,
     "metadata": {},
     "output_type": "execute_result"
    }
   ],
   "source": [
    "from gensim.models import Word2Vec\n",
    "i=0\n",
    "\n",
    "list_of_sent_test=[]\n",
    "for sent in X_test:\n",
    "    list_of_sent_test.append(sent.split())\n",
    "w2v_model=Word2Vec(list_of_sent_test,min_count=5,size=50, workers=4)\n",
    "w2v_model.wv.most_similar('tast')\n",
    "w2v_words = list(w2v_model.wv.vocab)\n",
    "w2v_words = np.array(w2v_words)\n",
    "w2v_words.shape\n"
   ]
  },
  {
   "cell_type": "markdown",
   "metadata": {},
   "source": [
    "#### Average W2V"
   ]
  },
  {
   "cell_type": "code",
   "execution_count": 43,
   "metadata": {},
   "outputs": [
    {
     "name": "stdout",
     "output_type": "stream",
     "text": [
      "(70000, 50)\n"
     ]
    }
   ],
   "source": [
    "sent_vectors = []; # the avg-w2v for each sentence/review is stored in this list\n",
    "for sent in list_of_sent: # for each review/sentence\n",
    "    sent_vec = np.zeros(50) # as word vectors are of zero length\n",
    "    cnt_words =0; # num of words with a valid vector in the sentence/review\n",
    "    for word in sent: # for each word in a review/sentence\n",
    "        if word in w2v_words:\n",
    "            vec = w2v_model.wv[word]\n",
    "            sent_vec += vec\n",
    "            cnt_words += 1\n",
    "    if cnt_words != 0:\n",
    "        sent_vec /= cnt_words\n",
    "    sent_vectors.append(sent_vec)\n",
    "sent_vectors = np.array(sent_vectors)\n",
    "print(sent_vectors.shape)"
   ]
  },
  {
   "cell_type": "code",
   "execution_count": 45,
   "metadata": {},
   "outputs": [
    {
     "name": "stdout",
     "output_type": "stream",
     "text": [
      "(30000, 50)\n"
     ]
    }
   ],
   "source": [
    "sent_vectors_test = []; # the avg-w2v for each sentence/review is stored in this list\n",
    "for sent in list_of_sent_test: # for each review/sentence\n",
    "    sent_vec = np.zeros(50) # as word vectors are of zero length\n",
    "    cnt_words =0; # num of words with a valid vector in the sentence/review\n",
    "    for word in sent: # for each word in a review/sentence\n",
    "        if word in w2v_words:\n",
    "            vec = w2v_model.wv[word]\n",
    "            sent_vec += vec\n",
    "            cnt_words += 1\n",
    "    if cnt_words != 0:\n",
    "        sent_vec /= cnt_words\n",
    "    sent_vectors_test.append(sent_vec)\n",
    "sent_vectors_test = np.array(sent_vectors_test)\n",
    "print(sent_vectors_test.shape)"
   ]
  },
  {
   "cell_type": "code",
   "execution_count": 46,
   "metadata": {},
   "outputs": [
    {
     "name": "stdout",
     "output_type": "stream",
     "text": [
      "{'C': 1, 'penalty': 'l1'}\n"
     ]
    },
    {
     "data": {
      "image/png": "[encoded data removed]",
      "text/plain": [
       "<Figure size 432x288 with 1 Axes>"
      ]
     },
     "metadata": {},
     "output_type": "display_data"
    }
   ],
   "source": [
    "X_train = sent_vectors\n",
    "X_test = sent_vectors_test\n",
    "\n",
    "optimalc_avgw2v_grid = find_optimal_C_grid(X_train, Y_train)"
   ]
  },
  {
   "cell_type": "code",
   "execution_count": 47,
   "metadata": {},
   "outputs": [
    {
     "name": "stdout",
     "output_type": "stream",
     "text": [
      "Train accuracy 88.58714285714285\n",
      "\n",
      "Test accuracy 88.57000000000001\n"
     ]
    }
   ],
   "source": [
    "# Learning the model with optimal alpha\n",
    "clf = LogisticRegression(C= 10000, penalty = 'l1')\n",
    "# fitting the model\n",
    "clf.fit(X_train,Y_train)\n",
    "\n",
    "#Predicting the output\n",
    "pred = clf.predict(X_test)\n",
    "\n",
    "train_acc_avgw2v = clf.score(X_train, Y_train)*100\n",
    "print(\"Train accuracy\", train_acc_avgw2v)\n",
    "\n",
    "test_acc_avgw2v = accuracy_score(Y_test, pred) * 100\n",
    "print(\"\\nTest accuracy\", test_acc_avgw2v)"
   ]
  },
  {
   "cell_type": "code",
   "execution_count": 48,
   "metadata": {},
   "outputs": [
    {
     "name": "stdout",
     "output_type": "stream",
     "text": [
      "             precision    recall  f1-score   support\n",
      "\n",
      "   negative       0.71      0.46      0.55      4671\n",
      "   positive       0.91      0.96      0.93     25329\n",
      "\n",
      "avg / total       0.87      0.89      0.88     30000\n",
      "\n"
     ]
    },
    {
     "data": {
      "image/png": "[encoded data removed]",
      "text/plain": [
       "<Figure size 432x288 with 2 Axes>"
      ]
     },
     "metadata": {},
     "output_type": "display_data"
    }
   ],
   "source": [
    "# classification report\n",
    "print(classification_report(Y_test, pred))\n",
    "\n",
    "# confusion matrix\n",
    "class_label = [\"negative\", \"positive\"]\n",
    "cm = confusion_matrix(Y_test, pred)\n",
    "cm_array = pd.DataFrame(cm, index = class_label, columns = class_label)\n",
    "sns.heatmap(cm_array, annot = True, fmt = \"d\")\n",
    "plt.title(\"Confusion Matrix\")\n",
    "plt.xlabel(\"Predicted Label\")\n",
    "plt.ylabel(\"True Label\")\n",
    "plt.show()"
   ]
  },
  {
   "cell_type": "code",
   "execution_count": 49,
   "metadata": {},
   "outputs": [
    {
     "name": "stdout",
     "output_type": "stream",
     "text": [
      "{'penalty': 'l1', 'C': 1}\n"
     ]
    },
    {
     "data": {
      "image/png": "[encoded data removed]",
      "text/plain": [
       "<Figure size 432x288 with 1 Axes>"
      ]
     },
     "metadata": {},
     "output_type": "display_data"
    }
   ],
   "source": [
    "optimalc_avgw2v_random = find_optimal_C_random(X_train, Y_train)"
   ]
  },
  {
   "cell_type": "code",
   "execution_count": 50,
   "metadata": {},
   "outputs": [
    {
     "name": "stdout",
     "output_type": "stream",
     "text": [
      "Train accuracy 88.58428571428571\n",
      "\n",
      "Test accuracy 88.57000000000001\n"
     ]
    }
   ],
   "source": [
    "# Learning the model with optimal alpha\n",
    "clf = LogisticRegression(C= 10000, penalty = 'l1')\n",
    "# fitting the model\n",
    "clf.fit(X_train,Y_train)\n",
    "\n",
    "#Predicting the output\n",
    "pred = clf.predict(X_test)\n",
    "\n",
    "train_acc_avgw2v = clf.score(X_train, Y_train)*100\n",
    "print(\"Train accuracy\", train_acc_avgw2v)\n",
    "\n",
    "test_acc_tfidf = accuracy_score(Y_test, pred) * 100\n",
    "print(\"\\nTest accuracy\", test_acc_avgw2v)"
   ]
  },
  {
   "cell_type": "code",
   "execution_count": 51,
   "metadata": {},
   "outputs": [
    {
     "name": "stdout",
     "output_type": "stream",
     "text": [
      "             precision    recall  f1-score   support\n",
      "\n",
      "   negative       0.71      0.46      0.55      4671\n",
      "   positive       0.91      0.96      0.93     25329\n",
      "\n",
      "avg / total       0.87      0.89      0.88     30000\n",
      "\n"
     ]
    },
    {
     "data": {
      "image/png": "[encoded data removed]",
      "text/plain": [
       "<Figure size 432x288 with 2 Axes>"
      ]
     },
     "metadata": {},
     "output_type": "display_data"
    }
   ],
   "source": [
    "# classification report\n",
    "print(classification_report(Y_test, pred))\n",
    "\n",
    "# confusion matrix\n",
    "class_label = [\"negative\", \"positive\"]\n",
    "cm = confusion_matrix(Y_test, pred)\n",
    "cm_array = pd.DataFrame(cm, index = class_label, columns = class_label)\n",
    "sns.heatmap(cm_array, annot = True, fmt = \"d\")\n",
    "plt.title(\"Confusion Matrix\")\n",
    "plt.xlabel(\"Predicted Label\")\n",
    "plt.ylabel(\"True Label\")\n",
    "plt.show()"
   ]
  },
  {
   "cell_type": "markdown",
   "metadata": {},
   "source": [
    "##### Checking Multicollinearity using Pertubation test"
   ]
  },
  {
   "cell_type": "code",
   "execution_count": 69,
   "metadata": {},
   "outputs": [
    {
     "name": "stdout",
     "output_type": "stream",
     "text": [
      "Weights before adding noise\n",
      "\n",
      "[ 1.20174867  0.49509746  1.58787518 -0.63295229 -0.02650552  0.97436779\n",
      " -0.58599252  0.20772888 -0.56103141 -0.76384162  0.81163491  0.41408095\n",
      "  0.53205183  0.63384314  0.56826874  0.84797158 -1.91101618  0.31666114\n",
      "  0.08960123 -0.42283476  2.08243972 -1.20779083  0.08726236  0.61292142\n",
      " -0.01526914  0.24445438 -0.85974016  0.07646699  1.14089688 -0.03015432]\n",
      "50\n"
     ]
    }
   ],
   "source": [
    "clf = LogisticRegression(C=10000, penalty='l1')\n",
    "clf.fit(X_train, Y_train)\n",
    "coef = clf.coef_[0]\n",
    "print(\"Weights before adding noise\\n\")\n",
    "print(coef[:30])\n",
    "print(len(coef))"
   ]
  },
  {
   "cell_type": "code",
   "execution_count": 82,
   "metadata": {},
   "outputs": [],
   "source": [
    "from scipy.sparse import csr_matrix\n",
    "X_train1 = csr_matrix(sent_vectors)\n",
    "noise = np.random.normal(0,0.01) \n",
    "X_train1.data = X_train1.data + noise\n"
   ]
  },
  {
   "cell_type": "code",
   "execution_count": 83,
   "metadata": {},
   "outputs": [
    {
     "name": "stdout",
     "output_type": "stream",
     "text": [
      "Weights after adding noise\n",
      "\n",
      "[ 1.197811    0.49020822  1.59066907 -0.62712734 -0.02113538  0.97442257\n",
      " -0.58839517  0.20622795 -0.56734858 -0.77489993  0.82413675  0.3975942\n",
      "  0.51496704  0.64820981  0.55951338  0.84070235 -1.90722515  0.32385593\n",
      "  0.06912421 -0.4271447   2.06309525 -1.21581043  0.09726658  0.61073847\n",
      " -0.00223766  0.24399583 -0.84688919  0.07435535  1.14407313 -0.02014632]\n",
      "50\n"
     ]
    }
   ],
   "source": [
    "clf = LogisticRegression(C=10000, penalty='l1')\n",
    "clf.fit(X_train1, Y_train)\n",
    "coef_withNoise = clf.coef_[0]\n",
    "print(\"Weights after adding noise\\n\")\n",
    "print(coef_withNoise[:30])\n",
    "print(len(coef))"
   ]
  },
  {
   "cell_type": "code",
   "execution_count": 84,
   "metadata": {},
   "outputs": [
    {
     "name": "stdout",
     "output_type": "stream",
     "text": [
      "[ 3.27661847e-01  9.87531377e-01  1.75951537e-01 -9.20282575e-01\n",
      " -2.02604554e+01  5.62154982e-03 -4.10013308e-01  7.22543999e-01\n",
      " -1.12599141e+00 -1.44772266e+00  1.54032776e+00  3.98152702e+00\n",
      "  3.21111486e+00  2.26659697e+00  1.54070837e+00  8.57248601e-01\n",
      " -1.98377871e-01  2.27207891e+00  2.28535052e+01 -1.01929667e+00\n",
      "  9.28933150e-01 -6.63988832e-01  1.14645337e+01  3.56155063e-01\n",
      " -8.53452029e+01  1.87581437e-01 -1.49475020e+00  2.76150858e+00\n",
      "  2.78399230e-01 -3.31892626e+01]\n"
     ]
    },
    {
     "data": {
      "text/plain": [
       "numpy.ndarray"
      ]
     },
     "execution_count": 84,
     "metadata": {},
     "output_type": "execute_result"
    }
   ],
   "source": [
    "Weights_diff = (abs(coef_withNoise-coef)/coef) * 100\n",
    "print(Weights_diff[:30])\n",
    "type(Weights_diff)"
   ]
  },
  {
   "cell_type": "code",
   "execution_count": 86,
   "metadata": {},
   "outputs": [
    {
     "name": "stdout",
     "output_type": "stream",
     "text": [
      "2\n"
     ]
    }
   ],
   "source": [
    "new_list = list(filter(lambda x: x > 20, Weights_diff))\n",
    "print(len(new_list))"
   ]
  },
  {
   "cell_type": "markdown",
   "metadata": {},
   "source": [
    "### 4 TF-IDF W2V"
   ]
  },
  {
   "cell_type": "code",
   "execution_count": 52,
   "metadata": {},
   "outputs": [
    {
     "name": "stdout",
     "output_type": "stream",
     "text": [
      "(70000,) (30000,)\n"
     ]
    }
   ],
   "source": [
    "# Splitting the data into train and test\n",
    "X = final_data['CleanedText']\n",
    "Y = final_data['Score']\n",
    "\n",
    "X_train, X_test, Y_train, Y_test = train_test_split(X, Y, test_size = 0.3, random_state = 0)\n",
    "print(X_train.shape,X_test.shape)\n",
    "#print(X_train)"
   ]
  },
  {
   "cell_type": "code",
   "execution_count": 53,
   "metadata": {},
   "outputs": [],
   "source": [
    "model = TfidfVectorizer()\n",
    "tf_idf_matrix = model.fit_transform(X_train)\n",
    "# we are converting a dictionary with word as a key, and the idf as a value\n",
    "dictionary = dict(zip(model.get_feature_names(), list(model.idf_)))"
   ]
  },
  {
   "cell_type": "code",
   "execution_count": 54,
   "metadata": {},
   "outputs": [
    {
     "name": "stdout",
     "output_type": "stream",
     "text": [
      "(70000, 50)\n"
     ]
    }
   ],
   "source": [
    "tfidf_feat = tfidf.get_feature_names() # tfidf words/col-names\n",
    " \n",
    "# final_tf_idf is the sparse matrix with row= sentence, col=word and cell_val = tfidf\n",
    "\n",
    "tfidf_sent_vectors = []; # the tfidf-w2v for each sentence/review is stored in this list\n",
    "row=0;\n",
    "for sent in list_of_sent: # for each review/sentence \n",
    "    sent_vec = np.zeros(50) # as word vectors are of zero length\n",
    "    weight_sum =0; # num of words with a valid vector in the sentence/review\n",
    "    for word in sent: # for each word in a review/sentence\n",
    "        if word in w2v_words:\n",
    "            vec = w2v_model.wv[word]\n",
    "            # obtain the tf_idfidf of a word in a sentence/review\n",
    "            tf_idf = dictionary[word]*(sent.count(word)/len(sent))\n",
    "            sent_vec += (vec * tf_idf)\n",
    "            weight_sum += tf_idf\n",
    "    if weight_sum != 0:\n",
    "        sent_vec /= weight_sum\n",
    "    tfidf_sent_vectors.append(sent_vec)\n",
    "    row += 1\n",
    "tfidf_sent_vectors = np.array(tfidf_sent_vectors)\n",
    "print(tfidf_sent_vectors.shape)"
   ]
  },
  {
   "cell_type": "code",
   "execution_count": 55,
   "metadata": {},
   "outputs": [
    {
     "name": "stdout",
     "output_type": "stream",
     "text": [
      "(30000, 50)\n"
     ]
    }
   ],
   "source": [
    "model = TfidfVectorizer()\n",
    "tf_idf_matrix = model.fit_transform(X_test)\n",
    "# we are converting a dictionary with word as a key, and the idf as a value\n",
    "dictionary = dict(zip(model.get_feature_names(), list(model.idf_)))\n",
    "\n",
    "tfidf_feat = tfidf.get_feature_names() \n",
    "tfidf_sent_vectors_test = []; # the tfidf-w2v for each sentence/review is stored in this list\n",
    "row=0;\n",
    "for sent in list_of_sent_test: # for each review/sentence \n",
    "    sent_vec = np.zeros(50) # as word vectors are of zero length\n",
    "    weight_sum =0; # num of words with a valid vector in the sentence/review\n",
    "    for word in sent: # for each word in a review/sentence\n",
    "        if word in w2v_words:\n",
    "            vec = w2v_model.wv[word]\n",
    "            # obtain the tf_idfidf of a word in a sentence/review\n",
    "            tf_idf = dictionary[word]*(sent.count(word)/len(sent))\n",
    "            sent_vec += (vec * tf_idf)\n",
    "            weight_sum += tf_idf\n",
    "    if weight_sum != 0:\n",
    "        sent_vec /= weight_sum\n",
    "    tfidf_sent_vectors_test.append(sent_vec)\n",
    "    row += 1\n",
    "tfidf_sent_vectors_test = np.array(tfidf_sent_vectors_test)\n",
    "print(tfidf_sent_vectors_test.shape)"
   ]
  },
  {
   "cell_type": "code",
   "execution_count": 56,
   "metadata": {},
   "outputs": [],
   "source": [
    "X_train = tfidf_sent_vectors\n",
    "X_test = tfidf_sent_vectors_test\n"
   ]
  },
  {
   "cell_type": "code",
   "execution_count": 57,
   "metadata": {},
   "outputs": [
    {
     "name": "stdout",
     "output_type": "stream",
     "text": [
      "{'C': 1, 'penalty': 'l1'}\n"
     ]
    },
    {
     "data": {
      "image/png": "[encoded data removed]",
      "text/plain": [
       "<Figure size 432x288 with 1 Axes>"
      ]
     },
     "metadata": {},
     "output_type": "display_data"
    }
   ],
   "source": [
    "optimalc_tfidfw2v_grid = find_optimal_C_grid(X_train, Y_train)"
   ]
  },
  {
   "cell_type": "code",
   "execution_count": 58,
   "metadata": {},
   "outputs": [
    {
     "name": "stdout",
     "output_type": "stream",
     "text": [
      "Train accuracy 87.36857142857143\n",
      "\n",
      "Test accuracy 87.26\n"
     ]
    }
   ],
   "source": [
    "# Learning the model with optimal alpha\n",
    "clf = LogisticRegression(C= 100, penalty = 'l1')\n",
    "# fitting the model\n",
    "clf.fit(X_train,Y_train)\n",
    "\n",
    "#Predicting the output\n",
    "pred = clf.predict(X_test)\n",
    "\n",
    "train_acc_tfidfw2v = clf.score(X_train, Y_train)*100\n",
    "print(\"Train accuracy\", train_acc_tfidfw2v)\n",
    "\n",
    "test_acc_tfidfw2v = accuracy_score(Y_test, pred) * 100\n",
    "print(\"\\nTest accuracy\", test_acc_tfidfw2v)"
   ]
  },
  {
   "cell_type": "code",
   "execution_count": 59,
   "metadata": {},
   "outputs": [
    {
     "name": "stdout",
     "output_type": "stream",
     "text": [
      "             precision    recall  f1-score   support\n",
      "\n",
      "   negative       0.67      0.36      0.47      4671\n",
      "   positive       0.89      0.97      0.93     25329\n",
      "\n",
      "avg / total       0.86      0.87      0.86     30000\n",
      "\n"
     ]
    },
    {
     "data": {
      "image/png": "[encoded data removed]",
      "text/plain": [
       "<Figure size 432x288 with 2 Axes>"
      ]
     },
     "metadata": {},
     "output_type": "display_data"
    }
   ],
   "source": [
    "# classification report\n",
    "print(classification_report(Y_test, pred))\n",
    "\n",
    "# confusion matrix\n",
    "class_label = [\"negative\", \"positive\"]\n",
    "cm = confusion_matrix(Y_test, pred)\n",
    "cm_array = pd.DataFrame(cm, index = class_label, columns = class_label)\n",
    "sns.heatmap(cm_array, annot = True, fmt = \"d\")\n",
    "plt.title(\"Confusion Matrix\")\n",
    "plt.xlabel(\"Predicted Label\")\n",
    "plt.ylabel(\"True Label\")\n",
    "plt.show()"
   ]
  },
  {
   "cell_type": "code",
   "execution_count": 60,
   "metadata": {},
   "outputs": [
    {
     "name": "stdout",
     "output_type": "stream",
     "text": [
      "{'penalty': 'l1', 'C': 1}\n"
     ]
    },
    {
     "data": {
      "image/png": "[encoded data removed]",
      "text/plain": [
       "<Figure size 432x288 with 1 Axes>"
      ]
     },
     "metadata": {},
     "output_type": "display_data"
    }
   ],
   "source": [
    "optimalc_tfidfw2v_random = find_optimal_C_random(X_train, Y_train)"
   ]
  },
  {
   "cell_type": "code",
   "execution_count": 61,
   "metadata": {},
   "outputs": [
    {
     "name": "stdout",
     "output_type": "stream",
     "text": [
      "Train accuracy 87.36714285714285\n",
      "\n",
      "Test accuracy 87.26\n"
     ]
    }
   ],
   "source": [
    "# Learning the model with optimal alpha\n",
    "clf = LogisticRegression(C= 100, penalty = 'l2')\n",
    "# fitting the model\n",
    "clf.fit(X_train,Y_train)\n",
    "\n",
    "#Predicting the output\n",
    "pred = clf.predict(X_test)\n",
    "\n",
    "train_acc_tfidfw2v = clf.score(X_train, Y_train)*100\n",
    "print(\"Train accuracy\", train_acc_tfidfw2v)\n",
    "\n",
    "test_acc_tfidfw2v = accuracy_score(Y_test, pred) * 100\n",
    "print(\"\\nTest accuracy\", test_acc_tfidfw2v)"
   ]
  },
  {
   "cell_type": "code",
   "execution_count": 62,
   "metadata": {},
   "outputs": [
    {
     "name": "stdout",
     "output_type": "stream",
     "text": [
      "             precision    recall  f1-score   support\n",
      "\n",
      "   negative       0.67      0.36      0.47      4671\n",
      "   positive       0.89      0.97      0.93     25329\n",
      "\n",
      "avg / total       0.86      0.87      0.86     30000\n",
      "\n"
     ]
    },
    {
     "data": {
      "image/png": "[encoded data removed]",
      "text/plain": [
       "<Figure size 432x288 with 2 Axes>"
      ]
     },
     "metadata": {},
     "output_type": "display_data"
    }
   ],
   "source": [
    "# classification report\n",
    "print(classification_report(Y_test, pred))\n",
    "\n",
    "# confusion matrix\n",
    "class_label = [\"negative\", \"positive\"]\n",
    "cm = confusion_matrix(Y_test, pred)\n",
    "cm_array = pd.DataFrame(cm, index = class_label, columns = class_label)\n",
    "sns.heatmap(cm_array, annot = True, fmt = \"d\")\n",
    "plt.title(\"Confusion Matrix\")\n",
    "plt.xlabel(\"Predicted Label\")\n",
    "plt.ylabel(\"True Label\")\n",
    "plt.show()"
   ]
  },
  {
   "cell_type": "markdown",
   "metadata": {},
   "source": [
    "##### Checking Multicollinearity using Pertubation test"
   ]
  },
  {
   "cell_type": "code",
   "execution_count": 99,
   "metadata": {},
   "outputs": [
    {
     "name": "stdout",
     "output_type": "stream",
     "text": [
      "Weights before adding noise\n",
      "\n",
      "[ 0.02250589  0.07957099  0.07020856  0.00360716 -0.03466307  0.11529928\n",
      " -0.03637838 -0.01761293 -0.12210004 -0.00900095 -0.03294464  0.0759766\n",
      "  0.12238841  0.02798842  0.07714511  0.12813774 -0.08767449  0.04086689\n",
      "  0.18317162  0.07532723  0.31447913 -0.04720879 -0.11207769  0.1964609\n",
      " -0.06680154  0.04797506 -0.15902309  0.04837199  0.1177901  -0.16791774]\n",
      "50\n"
     ]
    }
   ],
   "source": [
    "clf = LogisticRegression(C=0.0001, penalty='l2')\n",
    "clf.fit(X_train, Y_train)\n",
    "coef = clf.coef_[0]\n",
    "print(\"Weights before adding noise\\n\")\n",
    "print(coef[:30])\n",
    "print(len(coef))"
   ]
  },
  {
   "cell_type": "code",
   "execution_count": 101,
   "metadata": {},
   "outputs": [],
   "source": [
    "X_train1 = csr_matrix(tfidf_sent_vectors)\n",
    "noise = np.random.normal(0,0.01) \n",
    "X_train1.data = X_train1.data + noise\n"
   ]
  },
  {
   "cell_type": "code",
   "execution_count": 102,
   "metadata": {},
   "outputs": [
    {
     "name": "stdout",
     "output_type": "stream",
     "text": [
      "Weights after adding noise\n",
      "\n",
      "[ 0.02577662  0.08327542  0.0772661   0.00725346 -0.02767199  0.12132734\n",
      " -0.03159133 -0.01216361 -0.11596847 -0.0042297  -0.02465881  0.07960101\n",
      "  0.12704805  0.0352626   0.08098224  0.12941838 -0.08140989  0.04744444\n",
      "  0.18429721  0.07777161  0.31486017 -0.04154217 -0.10451842  0.19849751\n",
      " -0.06091825  0.05148696 -0.15137029  0.05197678  0.12223691 -0.15826278]\n",
      "50\n"
     ]
    }
   ],
   "source": [
    "clf = LogisticRegression(C=0.0001, penalty='l2')\n",
    "clf.fit(X_train1, Y_train)\n",
    "coef_withNoise = clf.coef_[0]\n",
    "print(\"Weights after adding noise\\n\")\n",
    "print(coef_withNoise[:30])\n",
    "print(len(coef))"
   ]
  },
  {
   "cell_type": "code",
   "execution_count": 103,
   "metadata": {},
   "outputs": [
    {
     "name": "stdout",
     "output_type": "stream",
     "text": [
      "[ 14.53273156   4.65550461  10.05226069 101.08533411 -20.16866229\n",
      "   5.22818649 -13.15903513 -30.93929428  -5.02175352 -53.00828977\n",
      " -25.15076229   4.77042951   3.80725629  25.98996602   4.97391261\n",
      "   0.99942449  -7.14528657  16.09506676   0.61450051   3.24501267\n",
      "   0.12116647 -12.00331324  -6.74466531   1.03664739  -8.8071193\n",
      "   7.32025549  -4.8123837    7.45222453   3.77519957  -5.74981554]\n"
     ]
    },
    {
     "data": {
      "text/plain": [
       "numpy.ndarray"
      ]
     },
     "execution_count": 103,
     "metadata": {},
     "output_type": "execute_result"
    }
   ],
   "source": [
    "Weights_diff = (abs(coef_withNoise-coef)/coef) * 100\n",
    "print(Weights_diff[:30])\n",
    "type(Weights_diff)"
   ]
  },
  {
   "cell_type": "code",
   "execution_count": 106,
   "metadata": {},
   "outputs": [
    {
     "name": "stdout",
     "output_type": "stream",
     "text": [
      "4\n"
     ]
    }
   ],
   "source": [
    "new_list = list(filter(lambda x: x > 20, Weights_diff))\n",
    "print(len(new_list))"
   ]
  },
  {
   "cell_type": "code",
   "execution_count": 63,
   "metadata": {},
   "outputs": [
    {
     "name": "stdout",
     "output_type": "stream",
     "text": [
      "+---------------+--------------------+-----------+---------+----------+\n",
      "| Vectorisation |         CV         | Optimal C | Penalty | F1-score |\n",
      "+---------------+--------------------+-----------+---------+----------+\n",
      "|      BOW      |    GridSearchCV    |    0.01   |    L1   |   0.90   |\n",
      "|      BOW      | RandomizedSearchCV |    0.01   |    L1   |   0.90   |\n",
      "|     TF-IDF    |    GridSearchCV    |   10000   |    L2   |   0.92   |\n",
      "|     TF-IDF    | RandomizedSearchCV |   10000   |    L2   |   0.93   |\n",
      "|  Average W2V  |    GridSearchCV    |     1     |    L1   |   0.88   |\n",
      "|  Average W2V  | RandomizedSearchCV |     1     |    L1   |   0.88   |\n",
      "|   TF-IDF W2V  |    GridSearchCV    |     1     |    L1   |   0.86   |\n",
      "|   TF-IDF W2V  | RandomizedSearchCV |     1     |    L1   |   0.86   |\n",
      "+---------------+--------------------+-----------+---------+----------+\n"
     ]
    }
   ],
   "source": [
    "x = PrettyTable()\n",
    "\n",
    "x.field_names = [\"Vectorisation\", \"CV\",\"Optimal C\", \"Penalty\", \"F1-score\"]\n",
    "\n",
    "x.add_row([\"BOW\",\"GridSearchCV\",\"0.01\",\"L1\",\"0.90\"])\n",
    "x.add_row([\"BOW\",\"RandomizedSearchCV\",\"0.01\",\"L1\",\"0.90\"])\n",
    "\n",
    "x.add_row([\"TF-IDF\",\"GridSearchCV\",\"10000\",\"L2\",\"0.92\"])\n",
    "x.add_row([\"TF-IDF\",\"RandomizedSearchCV\",\"10000\",\"L2\",\"0.93\"])\n",
    "\n",
    "x.add_row([\"Average W2V\",\"GridSearchCV\",\"1\",\"L1\",\"0.88\"])\n",
    "x.add_row([\"Average W2V\",\"RandomizedSearchCV\",\"1\",\"L1\",\"0.88\"])\n",
    "\n",
    "x.add_row([\"TF-IDF W2V\",\"GridSearchCV\",\"1\",\"L1\",\"0.86\"])\n",
    "x.add_row([\"TF-IDF W2V\",\"RandomizedSearchCV\",\"1\",\"L1\",\"0.86\"])\n",
    "\n",
    "\n",
    "print(x)"
   ]
  },
  {
   "cell_type": "markdown",
   "metadata": {},
   "source": [
    "### 5 Conclusion\n",
    "\n",
    "* BOW and TF-IDF performed well with F1-score of 0.9 and 0.92 respectively.\n",
    "* As lambda increases/C decreases the sparsity increases.\n",
    "* Features are multicollinear, so we cannot use weights as feature importance values.\n",
    "* Logistic Regression is faster in its traning time than other algorithms like KNN and it performed well on this dataset.\n",
    "* So logistic Regression can be used in low-latency applications."
   ]
  }
 ],
 "metadata": {
  "kernelspec": {
   "display_name": "Python 3",
   "language": "python",
   "name": "python3"
  },
  "language_info": {
   "codemirror_mode": {
    "name": "ipython",
    "version": 3
   },
   "file_extension": ".py",
   "mimetype": "text/x-python",
   "name": "python",
   "nbconvert_exporter": "python",
   "pygments_lexer": "ipython3",
   "version": "3.6.5"
  }
 },
 "nbformat": 4,
 "nbformat_minor": 2
}
